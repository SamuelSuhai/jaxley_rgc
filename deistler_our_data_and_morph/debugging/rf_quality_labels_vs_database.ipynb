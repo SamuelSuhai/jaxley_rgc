{
 "cells": [
  {
   "cell_type": "code",
   "execution_count": 2,
   "metadata": {},
   "outputs": [
    {
     "name": "stderr",
     "output_type": "stream",
     "text": [
      "2025-02-20 17:33:20.087562: E external/local_xla/xla/stream_executor/cuda/cuda_fft.cc:477] Unable to register cuFFT factory: Attempting to register factory for plugin cuFFT when one has already been registered\n",
      "WARNING: All log messages before absl::InitializeLog() is called are written to STDERR\n",
      "E0000 00:00:1740069200.101660  523032 cuda_dnn.cc:8310] Unable to register cuDNN factory: Attempting to register factory for plugin cuDNN when one has already been registered\n",
      "E0000 00:00:1740069200.105900  523032 cuda_blas.cc:1418] Unable to register cuBLAS factory: Attempting to register factory for plugin cuBLAS when one has already been registered\n",
      "/gpfs01/euler/User/ssuhai/GitRepos/jaxley_rgc/deistler_our_data_and_morph/train.py:334: UserWarning: \n",
      "The version_base parameter is not specified.\n",
      "Please specify a compatability version level, or None.\n",
      "Will assume defaults for version 1.1\n",
      "  @hydra.main(config_path=coinfig_fullpath, config_name=\"train\")\n"
     ]
    }
   ],
   "source": [
    "\n",
    "import os\n",
    "\n",
    "# os.environ[\"XLA_PYTHON_CLIENT_MEM_FRACTION\"] = \".6\"\n",
    "\n",
    "\n",
    "\n",
    "import h5py\n",
    "import hydra\n",
    "import pickle\n",
    "import yaml\n",
    "\n",
    "from omegaconf import DictConfig\n",
    "import logging\n",
    "from functools import partial\n",
    "\n",
    "import jax.numpy as jnp\n",
    "from jax import jit, vmap, value_and_grad\n",
    "import jax.debug\n",
    "import numpy as np\n",
    "import matplotlib.pyplot as plt\n",
    "import pickle\n",
    "import matplotlib as mpl\n",
    "import optax\n",
    "import pandas as pd\n",
    "import tensorflow as tf\n",
    "import sys\n",
    "import jaxley as jx\n",
    "import glob\n",
    "from skimage.transform import resize\n",
    "\n",
    "sys.path.append('/gpfs01/euler/User/ssuhai/GitRepos/jaxley_rgc/deistler_our_data_and_morph')\n",
    "\n",
    "from utils.rf_utils import (\n",
    "    compute_all_trained_rfs,\n",
    ")\n",
    "from train import create_rf_plots,build_avg_recordings, read_data\n",
    "\n",
    "\n",
    "from utils.rf_utils import (\n",
    "    compute_all_trained_rfs,\n",
    ")"
   ]
  },
  {
   "cell_type": "code",
   "execution_count": null,
   "metadata": {},
   "outputs": [],
   "source": [
    "\n",
    "\n",
    "# Compute receptive fields.\n",
    "rfs_trained = compute_all_trained_rfs(\n",
    "    counters,\n",
    "    all_loss_weights,\n",
    "    all_ca_predictions,\n",
    "    np.transpose(all_images, (1, 2, 0)),\n",
    "    noise_mag,\n",
    "    num_iter,\n",
    ")"
   ]
  }
 ],
 "metadata": {
  "kernelspec": {
   "display_name": "Python 3 (ipykernel)",
   "language": "python",
   "name": "python3"
  }
 },
 "nbformat": 4,
 "nbformat_minor": 2
}
