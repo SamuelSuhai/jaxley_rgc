{
 "cells": [
  {
   "cell_type": "code",
   "execution_count": null,
   "id": "07cf5217-eae1-40f8-979d-8f6dcfd50ee4",
   "metadata": {},
   "outputs": [],
   "source": [
    "import jaxley as jx\n",
    "from jaxley.synapses import IonotropicSynapse\n",
    "import matplotlib.pyplot as plt"
   ]
  }
 ],
 "metadata": {
  "kernelspec": {
   "display_name": "Python 3 (ipykernel)",
   "language": "python",
   "name": "python3"
  },
  "language_info": {
   "codemirror_mode": {
    "name": "ipython",
    "version": 3
   },
   "file_extension": ".py",
   "mimetype": "text/x-python",
   "name": "python",
   "nbconvert_exporter": "python",
   "pygments_lexer": "ipython3",
   "version": "3.12.8"
  }
 },
 "nbformat": 4,
 "nbformat_minor": 5
}
