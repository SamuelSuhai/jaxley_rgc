{
 "cells": [
  {
   "cell_type": "markdown",
   "id": "51419bb0",
   "metadata": {},
   "source": [
    "# Defining groups\n",
    "\n",
    "In this tutorial, you will learn how to:\n",
    "\n",
    "- define groups (aka sectionlists) to simplify iteractions with `Jaxley`  \n",
    "\n",
    "Here is a code snippet which you will learn to understand in this tutorial:\n",
    "```python\n",
    "from jax import jit, vmap\n",
    "\n",
    "\n",
    "net = ...  # See tutorial on Basics of Jaxley.\n",
    "\n",
    "net.cell(0).add_to_group(\"fast_spiking\")\n",
    "net.cell(1).add_to_group(\"slow_spiking\")\n",
    "\n",
    "def simulate(params):\n",
    "    param_state = None\n",
    "    param_state = net.fast_spiking.data_set(\"HH_gNa\", params[0], param_state)\n",
    "    param_state = net.slow_spiking.data_set(\"HH_gNa\", params[1], param_state)\n",
    "    return jx.integrate(net, param_state=param_state)\n",
    "\n",
    "# Define sodium for fast and slow spiking neurons.\n",
    "params = jnp.asarray([1.0, 0.1])\n",
    "\n",
    "# Run simulation.\n",
    "voltages = simulate(params)\n",
    "```\n",
    "\n",
    "\n",
    "In many cases, you might want to group several compartments (or branches, or cells) and assign a unique parameter or mechanism to this group. For example, you might want to define a couple of branches as basal and then assign a Hodgkin-Huxley mechanism only to those branches. Or you might define a couple of cells as fast spiking and assign them a high value for the sodium conductance. We describe how you can do this in this tutorial."
   ]
  },
  {
   "cell_type": "code",
   "execution_count": 1,
   "id": "d703515b",
   "metadata": {},
   "outputs": [],
   "source": [
    "from jax import config\n",
    "config.update(\"jax_enable_x64\", True)\n",
    "config.update(\"jax_platform_name\", \"cpu\")\n",
    "\n",
    "import time\n",
    "import matplotlib.pyplot as plt\n",
    "import numpy as np\n",
    "import jax\n",
    "import jax.numpy as jnp\n",
    "from jax import jit, value_and_grad\n",
    "\n",
    "import jaxley as jx\n",
    "from jaxley.channels import Na, K, Leak\n",
    "from jaxley.synapses import IonotropicSynapse\n",
    "from jaxley.connect import fully_connect"
   ]
  },
  {
   "cell_type": "markdown",
   "id": "94f247bc",
   "metadata": {},
   "source": [
    "First, we define a network as you saw in the [previous tutorial](https://jaxley.readthedocs.io/en/latest/tutorials/02_small_network.html):"
   ]
  },
  {
   "cell_type": "code",
   "execution_count": 2,
   "id": "10c4f776",
   "metadata": {},
   "outputs": [],
   "source": [
    "comp = jx.Compartment()\n",
    "branch = jx.Branch(comp, ncomp=2)\n",
    "cell = jx.Cell(branch, parents=[-1, 0, 0, 1])\n",
    "network = jx.Network([cell for _ in range(3)])\n",
    "\n",
    "pre = network.cell([0, 1])\n",
    "post = network.cell([2])\n",
    "fully_connect(pre, post, IonotropicSynapse())\n",
    "\n",
    "network.insert(Na())\n",
    "network.insert(K())\n",
    "network.insert(Leak())"
   ]
  },
  {
   "cell_type": "markdown",
   "id": "465fc6fa",
   "metadata": {},
   "source": [
    "### Group: apical dendrites\n",
    "Assume that, in each of the five neurons in this network, the second and forth branch are apical dendrites. We can define this as:"
   ]
  },
  {
   "cell_type": "code",
   "execution_count": 4,
   "id": "3f23fceb",
   "metadata": {},
   "outputs": [],
   "source": [
    "for cell_ind in range(3):\n",
    "    network.cell(cell_ind).branch(1).add_to_group(\"apical\")\n",
    "    network.cell(cell_ind).branch(3).add_to_group(\"apical\")"
   ]
  },
  {
   "cell_type": "markdown",
   "id": "ee58e3e9",
   "metadata": {},
   "source": [
    "After this, we can access `network.apical` as we previously accesses anything else:"
   ]
  },
  {
   "cell_type": "code",
   "execution_count": 5,
   "id": "5b2c9ee1",
   "metadata": {},
   "outputs": [],
   "source": [
    "network.apical.set(\"radius\", 0.3)"
   ]
  },
  {
   "cell_type": "code",
   "execution_count": 7,
   "id": "1e6efa3e",
   "metadata": {},
   "outputs": [
    {
     "data": {
      "text/html": [
       "<div>\n",
       "<style scoped>\n",
       "    .dataframe tbody tr th:only-of-type {\n",
       "        vertical-align: middle;\n",
       "    }\n",
       "\n",
       "    .dataframe tbody tr th {\n",
       "        vertical-align: top;\n",
       "    }\n",
       "\n",
       "    .dataframe thead th {\n",
       "        text-align: right;\n",
       "    }\n",
       "</style>\n",
       "<table border=\"1\" class=\"dataframe\">\n",
       "  <thead>\n",
       "    <tr style=\"text-align: right;\">\n",
       "      <th></th>\n",
       "      <th>local_cell_index</th>\n",
       "      <th>local_branch_index</th>\n",
       "      <th>local_comp_index</th>\n",
       "      <th>length</th>\n",
       "      <th>radius</th>\n",
       "      <th>axial_resistivity</th>\n",
       "      <th>capacitance</th>\n",
       "      <th>v</th>\n",
       "      <th>Na</th>\n",
       "      <th>Na_gNa</th>\n",
       "      <th>...</th>\n",
       "      <th>K_gK</th>\n",
       "      <th>eK</th>\n",
       "      <th>K_n</th>\n",
       "      <th>Leak</th>\n",
       "      <th>Leak_gLeak</th>\n",
       "      <th>Leak_eLeak</th>\n",
       "      <th>global_cell_index</th>\n",
       "      <th>global_branch_index</th>\n",
       "      <th>global_comp_index</th>\n",
       "      <th>controlled_by_param</th>\n",
       "    </tr>\n",
       "  </thead>\n",
       "  <tbody>\n",
       "    <tr>\n",
       "      <th>2</th>\n",
       "      <td>0</td>\n",
       "      <td>0</td>\n",
       "      <td>0</td>\n",
       "      <td>10.0</td>\n",
       "      <td>0.3</td>\n",
       "      <td>5000.0</td>\n",
       "      <td>1.0</td>\n",
       "      <td>-70.0</td>\n",
       "      <td>True</td>\n",
       "      <td>0.05</td>\n",
       "      <td>...</td>\n",
       "      <td>0.005</td>\n",
       "      <td>-90.0</td>\n",
       "      <td>0.2</td>\n",
       "      <td>True</td>\n",
       "      <td>0.0001</td>\n",
       "      <td>-70.0</td>\n",
       "      <td>0</td>\n",
       "      <td>1</td>\n",
       "      <td>2</td>\n",
       "      <td>0</td>\n",
       "    </tr>\n",
       "    <tr>\n",
       "      <th>3</th>\n",
       "      <td>0</td>\n",
       "      <td>0</td>\n",
       "      <td>1</td>\n",
       "      <td>10.0</td>\n",
       "      <td>0.3</td>\n",
       "      <td>5000.0</td>\n",
       "      <td>1.0</td>\n",
       "      <td>-70.0</td>\n",
       "      <td>True</td>\n",
       "      <td>0.05</td>\n",
       "      <td>...</td>\n",
       "      <td>0.005</td>\n",
       "      <td>-90.0</td>\n",
       "      <td>0.2</td>\n",
       "      <td>True</td>\n",
       "      <td>0.0001</td>\n",
       "      <td>-70.0</td>\n",
       "      <td>0</td>\n",
       "      <td>1</td>\n",
       "      <td>3</td>\n",
       "      <td>0</td>\n",
       "    </tr>\n",
       "    <tr>\n",
       "      <th>6</th>\n",
       "      <td>0</td>\n",
       "      <td>1</td>\n",
       "      <td>0</td>\n",
       "      <td>10.0</td>\n",
       "      <td>0.3</td>\n",
       "      <td>5000.0</td>\n",
       "      <td>1.0</td>\n",
       "      <td>-70.0</td>\n",
       "      <td>True</td>\n",
       "      <td>0.05</td>\n",
       "      <td>...</td>\n",
       "      <td>0.005</td>\n",
       "      <td>-90.0</td>\n",
       "      <td>0.2</td>\n",
       "      <td>True</td>\n",
       "      <td>0.0001</td>\n",
       "      <td>-70.0</td>\n",
       "      <td>0</td>\n",
       "      <td>3</td>\n",
       "      <td>6</td>\n",
       "      <td>0</td>\n",
       "    </tr>\n",
       "    <tr>\n",
       "      <th>7</th>\n",
       "      <td>0</td>\n",
       "      <td>1</td>\n",
       "      <td>1</td>\n",
       "      <td>10.0</td>\n",
       "      <td>0.3</td>\n",
       "      <td>5000.0</td>\n",
       "      <td>1.0</td>\n",
       "      <td>-70.0</td>\n",
       "      <td>True</td>\n",
       "      <td>0.05</td>\n",
       "      <td>...</td>\n",
       "      <td>0.005</td>\n",
       "      <td>-90.0</td>\n",
       "      <td>0.2</td>\n",
       "      <td>True</td>\n",
       "      <td>0.0001</td>\n",
       "      <td>-70.0</td>\n",
       "      <td>0</td>\n",
       "      <td>3</td>\n",
       "      <td>7</td>\n",
       "      <td>0</td>\n",
       "    </tr>\n",
       "    <tr>\n",
       "      <th>10</th>\n",
       "      <td>1</td>\n",
       "      <td>0</td>\n",
       "      <td>0</td>\n",
       "      <td>10.0</td>\n",
       "      <td>0.3</td>\n",
       "      <td>5000.0</td>\n",
       "      <td>1.0</td>\n",
       "      <td>-70.0</td>\n",
       "      <td>True</td>\n",
       "      <td>0.05</td>\n",
       "      <td>...</td>\n",
       "      <td>0.005</td>\n",
       "      <td>-90.0</td>\n",
       "      <td>0.2</td>\n",
       "      <td>True</td>\n",
       "      <td>0.0001</td>\n",
       "      <td>-70.0</td>\n",
       "      <td>1</td>\n",
       "      <td>5</td>\n",
       "      <td>10</td>\n",
       "      <td>0</td>\n",
       "    </tr>\n",
       "    <tr>\n",
       "      <th>11</th>\n",
       "      <td>1</td>\n",
       "      <td>0</td>\n",
       "      <td>1</td>\n",
       "      <td>10.0</td>\n",
       "      <td>0.3</td>\n",
       "      <td>5000.0</td>\n",
       "      <td>1.0</td>\n",
       "      <td>-70.0</td>\n",
       "      <td>True</td>\n",
       "      <td>0.05</td>\n",
       "      <td>...</td>\n",
       "      <td>0.005</td>\n",
       "      <td>-90.0</td>\n",
       "      <td>0.2</td>\n",
       "      <td>True</td>\n",
       "      <td>0.0001</td>\n",
       "      <td>-70.0</td>\n",
       "      <td>1</td>\n",
       "      <td>5</td>\n",
       "      <td>11</td>\n",
       "      <td>0</td>\n",
       "    </tr>\n",
       "    <tr>\n",
       "      <th>14</th>\n",
       "      <td>1</td>\n",
       "      <td>1</td>\n",
       "      <td>0</td>\n",
       "      <td>10.0</td>\n",
       "      <td>0.3</td>\n",
       "      <td>5000.0</td>\n",
       "      <td>1.0</td>\n",
       "      <td>-70.0</td>\n",
       "      <td>True</td>\n",
       "      <td>0.05</td>\n",
       "      <td>...</td>\n",
       "      <td>0.005</td>\n",
       "      <td>-90.0</td>\n",
       "      <td>0.2</td>\n",
       "      <td>True</td>\n",
       "      <td>0.0001</td>\n",
       "      <td>-70.0</td>\n",
       "      <td>1</td>\n",
       "      <td>7</td>\n",
       "      <td>14</td>\n",
       "      <td>0</td>\n",
       "    </tr>\n",
       "    <tr>\n",
       "      <th>15</th>\n",
       "      <td>1</td>\n",
       "      <td>1</td>\n",
       "      <td>1</td>\n",
       "      <td>10.0</td>\n",
       "      <td>0.3</td>\n",
       "      <td>5000.0</td>\n",
       "      <td>1.0</td>\n",
       "      <td>-70.0</td>\n",
       "      <td>True</td>\n",
       "      <td>0.05</td>\n",
       "      <td>...</td>\n",
       "      <td>0.005</td>\n",
       "      <td>-90.0</td>\n",
       "      <td>0.2</td>\n",
       "      <td>True</td>\n",
       "      <td>0.0001</td>\n",
       "      <td>-70.0</td>\n",
       "      <td>1</td>\n",
       "      <td>7</td>\n",
       "      <td>15</td>\n",
       "      <td>0</td>\n",
       "    </tr>\n",
       "    <tr>\n",
       "      <th>18</th>\n",
       "      <td>2</td>\n",
       "      <td>0</td>\n",
       "      <td>0</td>\n",
       "      <td>10.0</td>\n",
       "      <td>0.3</td>\n",
       "      <td>5000.0</td>\n",
       "      <td>1.0</td>\n",
       "      <td>-70.0</td>\n",
       "      <td>True</td>\n",
       "      <td>0.05</td>\n",
       "      <td>...</td>\n",
       "      <td>0.005</td>\n",
       "      <td>-90.0</td>\n",
       "      <td>0.2</td>\n",
       "      <td>True</td>\n",
       "      <td>0.0001</td>\n",
       "      <td>-70.0</td>\n",
       "      <td>2</td>\n",
       "      <td>9</td>\n",
       "      <td>18</td>\n",
       "      <td>0</td>\n",
       "    </tr>\n",
       "    <tr>\n",
       "      <th>19</th>\n",
       "      <td>2</td>\n",
       "      <td>0</td>\n",
       "      <td>1</td>\n",
       "      <td>10.0</td>\n",
       "      <td>0.3</td>\n",
       "      <td>5000.0</td>\n",
       "      <td>1.0</td>\n",
       "      <td>-70.0</td>\n",
       "      <td>True</td>\n",
       "      <td>0.05</td>\n",
       "      <td>...</td>\n",
       "      <td>0.005</td>\n",
       "      <td>-90.0</td>\n",
       "      <td>0.2</td>\n",
       "      <td>True</td>\n",
       "      <td>0.0001</td>\n",
       "      <td>-70.0</td>\n",
       "      <td>2</td>\n",
       "      <td>9</td>\n",
       "      <td>19</td>\n",
       "      <td>0</td>\n",
       "    </tr>\n",
       "    <tr>\n",
       "      <th>22</th>\n",
       "      <td>2</td>\n",
       "      <td>1</td>\n",
       "      <td>0</td>\n",
       "      <td>10.0</td>\n",
       "      <td>0.3</td>\n",
       "      <td>5000.0</td>\n",
       "      <td>1.0</td>\n",
       "      <td>-70.0</td>\n",
       "      <td>True</td>\n",
       "      <td>0.05</td>\n",
       "      <td>...</td>\n",
       "      <td>0.005</td>\n",
       "      <td>-90.0</td>\n",
       "      <td>0.2</td>\n",
       "      <td>True</td>\n",
       "      <td>0.0001</td>\n",
       "      <td>-70.0</td>\n",
       "      <td>2</td>\n",
       "      <td>11</td>\n",
       "      <td>22</td>\n",
       "      <td>0</td>\n",
       "    </tr>\n",
       "    <tr>\n",
       "      <th>23</th>\n",
       "      <td>2</td>\n",
       "      <td>1</td>\n",
       "      <td>1</td>\n",
       "      <td>10.0</td>\n",
       "      <td>0.3</td>\n",
       "      <td>5000.0</td>\n",
       "      <td>1.0</td>\n",
       "      <td>-70.0</td>\n",
       "      <td>True</td>\n",
       "      <td>0.05</td>\n",
       "      <td>...</td>\n",
       "      <td>0.005</td>\n",
       "      <td>-90.0</td>\n",
       "      <td>0.2</td>\n",
       "      <td>True</td>\n",
       "      <td>0.0001</td>\n",
       "      <td>-70.0</td>\n",
       "      <td>2</td>\n",
       "      <td>11</td>\n",
       "      <td>23</td>\n",
       "      <td>0</td>\n",
       "    </tr>\n",
       "  </tbody>\n",
       "</table>\n",
       "<p>12 rows × 25 columns</p>\n",
       "</div>"
      ],
      "text/plain": [
       "    local_cell_index  local_branch_index  local_comp_index  length  radius  \\\n",
       "2                  0                   0                 0    10.0     0.3   \n",
       "3                  0                   0                 1    10.0     0.3   \n",
       "6                  0                   1                 0    10.0     0.3   \n",
       "7                  0                   1                 1    10.0     0.3   \n",
       "10                 1                   0                 0    10.0     0.3   \n",
       "11                 1                   0                 1    10.0     0.3   \n",
       "14                 1                   1                 0    10.0     0.3   \n",
       "15                 1                   1                 1    10.0     0.3   \n",
       "18                 2                   0                 0    10.0     0.3   \n",
       "19                 2                   0                 1    10.0     0.3   \n",
       "22                 2                   1                 0    10.0     0.3   \n",
       "23                 2                   1                 1    10.0     0.3   \n",
       "\n",
       "    axial_resistivity  capacitance     v    Na  Na_gNa  ...   K_gK    eK  K_n  \\\n",
       "2              5000.0          1.0 -70.0  True    0.05  ...  0.005 -90.0  0.2   \n",
       "3              5000.0          1.0 -70.0  True    0.05  ...  0.005 -90.0  0.2   \n",
       "6              5000.0          1.0 -70.0  True    0.05  ...  0.005 -90.0  0.2   \n",
       "7              5000.0          1.0 -70.0  True    0.05  ...  0.005 -90.0  0.2   \n",
       "10             5000.0          1.0 -70.0  True    0.05  ...  0.005 -90.0  0.2   \n",
       "11             5000.0          1.0 -70.0  True    0.05  ...  0.005 -90.0  0.2   \n",
       "14             5000.0          1.0 -70.0  True    0.05  ...  0.005 -90.0  0.2   \n",
       "15             5000.0          1.0 -70.0  True    0.05  ...  0.005 -90.0  0.2   \n",
       "18             5000.0          1.0 -70.0  True    0.05  ...  0.005 -90.0  0.2   \n",
       "19             5000.0          1.0 -70.0  True    0.05  ...  0.005 -90.0  0.2   \n",
       "22             5000.0          1.0 -70.0  True    0.05  ...  0.005 -90.0  0.2   \n",
       "23             5000.0          1.0 -70.0  True    0.05  ...  0.005 -90.0  0.2   \n",
       "\n",
       "    Leak  Leak_gLeak  Leak_eLeak  global_cell_index  global_branch_index  \\\n",
       "2   True      0.0001       -70.0                  0                    1   \n",
       "3   True      0.0001       -70.0                  0                    1   \n",
       "6   True      0.0001       -70.0                  0                    3   \n",
       "7   True      0.0001       -70.0                  0                    3   \n",
       "10  True      0.0001       -70.0                  1                    5   \n",
       "11  True      0.0001       -70.0                  1                    5   \n",
       "14  True      0.0001       -70.0                  1                    7   \n",
       "15  True      0.0001       -70.0                  1                    7   \n",
       "18  True      0.0001       -70.0                  2                    9   \n",
       "19  True      0.0001       -70.0                  2                    9   \n",
       "22  True      0.0001       -70.0                  2                   11   \n",
       "23  True      0.0001       -70.0                  2                   11   \n",
       "\n",
       "    global_comp_index  controlled_by_param  \n",
       "2                   2                    0  \n",
       "3                   3                    0  \n",
       "6                   6                    0  \n",
       "7                   7                    0  \n",
       "10                 10                    0  \n",
       "11                 11                    0  \n",
       "14                 14                    0  \n",
       "15                 15                    0  \n",
       "18                 18                    0  \n",
       "19                 19                    0  \n",
       "22                 22                    0  \n",
       "23                 23                    0  \n",
       "\n",
       "[12 rows x 25 columns]"
      ]
     },
     "execution_count": 7,
     "metadata": {},
     "output_type": "execute_result"
    }
   ],
   "source": [
    "network.apical.view.nodes"
   ]
  },
  {
   "cell_type": "markdown",
   "id": "ac885848",
   "metadata": {},
   "source": [
    "### Group: fast spiking\n",
    "Similarly, you could define a group of fast-spiking cells. Assume that the first and second cell are fast-spiking:"
   ]
  },
  {
   "cell_type": "code",
   "execution_count": 8,
   "id": "0b8e9b38",
   "metadata": {},
   "outputs": [],
   "source": [
    "network.cell(0).add_to_group(\"fast_spiking\")\n",
    "network.cell(1).add_to_group(\"fast_spiking\")"
   ]
  },
  {
   "cell_type": "code",
   "execution_count": 9,
   "id": "25322ebf",
   "metadata": {},
   "outputs": [],
   "source": [
    "network.fast_spiking.set(\"Na_gNa\", 0.4)"
   ]
  },
  {
   "cell_type": "code",
   "execution_count": 10,
   "id": "f98f4e74",
   "metadata": {},
   "outputs": [
    {
     "data": {
      "text/plain": [
       "View with 3 different channels. Use `.nodes` for details."
      ]
     },
     "execution_count": 10,
     "metadata": {},
     "output_type": "execute_result"
    }
   ],
   "source": [
    "network.fast_spiking.view"
   ]
  },
  {
   "cell_type": "markdown",
   "id": "c8ad35a5",
   "metadata": {},
   "source": [
    "### Groups from SWC files"
   ]
  },
  {
   "cell_type": "markdown",
   "id": "72de2fb6",
   "metadata": {},
   "source": [
    "If you are reading `.swc` morphologigies, you can automatically assign groups with \n",
    "```python\n",
    "jx.read_swc(file_name, nseg=n, assign_groups=True).\n",
    "```\n",
    "After that, you can directly use `cell.soma`, `cell.apical`, `cell.basal`, or `cell.axon`."
   ]
  },
  {
   "cell_type": "markdown",
   "id": "e08a5b66",
   "metadata": {},
   "source": [
    "### How groups are interpreted by `.make_trainable()`\n",
    "If you make a parameter of a `group` trainable, then it will be treated as a single shared parameter for a given property:"
   ]
  },
  {
   "cell_type": "code",
   "execution_count": 11,
   "id": "a5d4f8ca",
   "metadata": {},
   "outputs": [
    {
     "name": "stdout",
     "output_type": "stream",
     "text": [
      "Number of newly added trainable parameters: 1. Total number of trainable parameters: 1\n"
     ]
    }
   ],
   "source": [
    "network.fast_spiking.make_trainable(\"Na_gNa\")"
   ]
  },
  {
   "cell_type": "markdown",
   "id": "99082cca",
   "metadata": {},
   "source": [
    "As such, `get_parameters()` returns only a single trainable parameter, which will be the sodium conductance for every compartment of every fast-spiking neuron:"
   ]
  },
  {
   "cell_type": "code",
   "execution_count": 12,
   "id": "62b0dc0c",
   "metadata": {},
   "outputs": [
    {
     "data": {
      "text/plain": [
       "[{'Na_gNa': Array([0.4], dtype=float64)}]"
      ]
     },
     "execution_count": 12,
     "metadata": {},
     "output_type": "execute_result"
    }
   ],
   "source": [
    "network.get_parameters()"
   ]
  },
  {
   "cell_type": "markdown",
   "id": "4941d565",
   "metadata": {},
   "source": [
    "If, instead, you would want a separate parameter for every fast-spiking cell, you should not use the group, but instead do the following (remember that fast-spiking neurons had indices [0,1]):"
   ]
  },
  {
   "cell_type": "code",
   "execution_count": 13,
   "id": "4e6108e9",
   "metadata": {},
   "outputs": [
    {
     "name": "stdout",
     "output_type": "stream",
     "text": [
      "Number of newly added trainable parameters: 2. Total number of trainable parameters: 3\n"
     ]
    }
   ],
   "source": [
    "network.cell([0,1]).make_trainable(\"axial_resistivity\")"
   ]
  },
  {
   "cell_type": "code",
   "execution_count": 14,
   "id": "13db06ab",
   "metadata": {},
   "outputs": [
    {
     "data": {
      "text/plain": [
       "[{'Na_gNa': Array([0.4], dtype=float64)},\n",
       " {'axial_resistivity': Array([5000., 5000.], dtype=float64)}]"
      ]
     },
     "execution_count": 14,
     "metadata": {},
     "output_type": "execute_result"
    }
   ],
   "source": [
    "network.get_parameters()"
   ]
  },
  {
   "cell_type": "markdown",
   "id": "3d6a4dee",
   "metadata": {},
   "source": [
    "This generated two parameters for the axial resistivitiy, each corresponding to one cell."
   ]
  },
  {
   "cell_type": "markdown",
   "id": "3ed0a8d6",
   "metadata": {},
   "source": [
    "### Summary"
   ]
  },
  {
   "cell_type": "markdown",
   "id": "4476ff6b",
   "metadata": {},
   "source": [
    "Groups allow you to organize your simulation in a more intuitive way, and they allow to perform parameter sharing with `make_trainable()`."
   ]
  }
 ],
 "metadata": {
  "kernelspec": {
   "display_name": "jaxley_cpu",
   "language": "python",
   "name": "python3"
  },
  "language_info": {
   "codemirror_mode": {
    "name": "ipython",
    "version": 3
   },
   "file_extension": ".py",
   "mimetype": "text/x-python",
   "name": "python",
   "nbconvert_exporter": "python",
   "pygments_lexer": "ipython3",
   "version": "3.11.11"
  }
 },
 "nbformat": 4,
 "nbformat_minor": 5
}
