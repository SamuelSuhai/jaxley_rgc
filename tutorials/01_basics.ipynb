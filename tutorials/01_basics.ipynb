{
 "cells": [
  {
   "cell_type": "markdown",
   "metadata": {},
   "source": [
    "# Basics of Jaxley"
   ]
  },
  {
   "cell_type": "code",
   "execution_count": 2,
   "metadata": {},
   "outputs": [],
   "source": [
    "from jax import config\n",
    "config.update(\"jax_enable_x64\", True)\n",
    "config.update(\"jax_platform_name\", \"cpu\")\n",
    "\n",
    "import matplotlib.pyplot as plt\n",
    "import numpy as np\n",
    "import jax.numpy as jnp\n",
    "from jax import jit\n",
    "\n",
    "import jaxley as jx\n",
    "from jaxley.channels import Na, K, Leak\n",
    "from jaxley.synapses import IonotropicSynapse\n",
    "from jaxley.connect import fully_connect"
   ]
  },
  {
   "cell_type": "markdown",
   "metadata": {},
   "source": [
    "## Defining cell"
   ]
  },
  {
   "cell_type": "code",
   "execution_count": 3,
   "metadata": {},
   "outputs": [
    {
     "data": {
      "image/png": "[encoded data removed]",
      "text/plain": [
       "<Figure size 400x200 with 1 Axes>"
      ]
     },
     "metadata": {},
     "output_type": "display_data"
    }
   ],
   "source": [
    "comp = jx.Compartment()\n",
    "# BY SPECIFYING NCOMP YOU SAY HOW MANY COMP IN A BRANCH\n",
    "branch = jx.Branch(comp, ncomp=2)\n",
    "#parents = jnp.asarray([-1, 0, 0, 1, 1,1])\n",
    "parents = jnp.asarray([-1,0,0,1,1])\n",
    "cell = jx.Cell(branch, parents=parents)\n",
    "\n",
    "cell.compute_xyz()  # Only needed for visualization.\n",
    "\n",
    "fig, ax = plt.subplots(1, 1, figsize=(4, 2))\n",
    "_ = cell.vis(ax=ax, col=\"k\")"
   ]
  },
  {
   "cell_type": "markdown",
   "metadata": {},
   "source": [
    "## Insert mechanisms "
   ]
  },
  {
   "cell_type": "code",
   "execution_count": 4,
   "metadata": {},
   "outputs": [
    {
     "data": {
      "text/html": [
       "<div>\n",
       "<style scoped>\n",
       "    .dataframe tbody tr th:only-of-type {\n",
       "        vertical-align: middle;\n",
       "    }\n",
       "\n",
       "    .dataframe tbody tr th {\n",
       "        vertical-align: top;\n",
       "    }\n",
       "\n",
       "    .dataframe thead th {\n",
       "        text-align: right;\n",
       "    }\n",
       "</style>\n",
       "<table border=\"1\" class=\"dataframe\">\n",
       "  <thead>\n",
       "    <tr style=\"text-align: right;\">\n",
       "      <th></th>\n",
       "      <th>local_cell_index</th>\n",
       "      <th>local_branch_index</th>\n",
       "      <th>local_comp_index</th>\n",
       "      <th>length</th>\n",
       "      <th>radius</th>\n",
       "      <th>axial_resistivity</th>\n",
       "      <th>capacitance</th>\n",
       "      <th>v</th>\n",
       "      <th>global_cell_index</th>\n",
       "      <th>global_branch_index</th>\n",
       "      <th>...</th>\n",
       "      <th>Na</th>\n",
       "      <th>Na_gNa</th>\n",
       "      <th>eNa</th>\n",
       "      <th>vt</th>\n",
       "      <th>Na_m</th>\n",
       "      <th>Na_h</th>\n",
       "      <th>K</th>\n",
       "      <th>K_gK</th>\n",
       "      <th>eK</th>\n",
       "      <th>K_n</th>\n",
       "    </tr>\n",
       "  </thead>\n",
       "  <tbody>\n",
       "    <tr>\n",
       "      <th>0</th>\n",
       "      <td>0</td>\n",
       "      <td>0</td>\n",
       "      <td>0</td>\n",
       "      <td>10.0</td>\n",
       "      <td>1.0</td>\n",
       "      <td>5000.0</td>\n",
       "      <td>1.0</td>\n",
       "      <td>-70.0</td>\n",
       "      <td>0</td>\n",
       "      <td>0</td>\n",
       "      <td>...</td>\n",
       "      <td>True</td>\n",
       "      <td>0.05</td>\n",
       "      <td>50.0</td>\n",
       "      <td>-60.0</td>\n",
       "      <td>0.2</td>\n",
       "      <td>0.2</td>\n",
       "      <td>True</td>\n",
       "      <td>0.005</td>\n",
       "      <td>-90.0</td>\n",
       "      <td>0.2</td>\n",
       "    </tr>\n",
       "    <tr>\n",
       "      <th>1</th>\n",
       "      <td>0</td>\n",
       "      <td>0</td>\n",
       "      <td>1</td>\n",
       "      <td>10.0</td>\n",
       "      <td>1.0</td>\n",
       "      <td>5000.0</td>\n",
       "      <td>1.0</td>\n",
       "      <td>-70.0</td>\n",
       "      <td>0</td>\n",
       "      <td>0</td>\n",
       "      <td>...</td>\n",
       "      <td>True</td>\n",
       "      <td>0.05</td>\n",
       "      <td>50.0</td>\n",
       "      <td>-60.0</td>\n",
       "      <td>0.2</td>\n",
       "      <td>0.2</td>\n",
       "      <td>True</td>\n",
       "      <td>0.005</td>\n",
       "      <td>-90.0</td>\n",
       "      <td>0.2</td>\n",
       "    </tr>\n",
       "    <tr>\n",
       "      <th>2</th>\n",
       "      <td>0</td>\n",
       "      <td>1</td>\n",
       "      <td>0</td>\n",
       "      <td>10.0</td>\n",
       "      <td>1.0</td>\n",
       "      <td>5000.0</td>\n",
       "      <td>1.0</td>\n",
       "      <td>-70.0</td>\n",
       "      <td>0</td>\n",
       "      <td>1</td>\n",
       "      <td>...</td>\n",
       "      <td>False</td>\n",
       "      <td>NaN</td>\n",
       "      <td>NaN</td>\n",
       "      <td>NaN</td>\n",
       "      <td>NaN</td>\n",
       "      <td>NaN</td>\n",
       "      <td>False</td>\n",
       "      <td>NaN</td>\n",
       "      <td>NaN</td>\n",
       "      <td>NaN</td>\n",
       "    </tr>\n",
       "    <tr>\n",
       "      <th>3</th>\n",
       "      <td>0</td>\n",
       "      <td>1</td>\n",
       "      <td>1</td>\n",
       "      <td>10.0</td>\n",
       "      <td>1.0</td>\n",
       "      <td>5000.0</td>\n",
       "      <td>1.0</td>\n",
       "      <td>-70.0</td>\n",
       "      <td>0</td>\n",
       "      <td>1</td>\n",
       "      <td>...</td>\n",
       "      <td>False</td>\n",
       "      <td>NaN</td>\n",
       "      <td>NaN</td>\n",
       "      <td>NaN</td>\n",
       "      <td>NaN</td>\n",
       "      <td>NaN</td>\n",
       "      <td>False</td>\n",
       "      <td>NaN</td>\n",
       "      <td>NaN</td>\n",
       "      <td>NaN</td>\n",
       "    </tr>\n",
       "    <tr>\n",
       "      <th>4</th>\n",
       "      <td>0</td>\n",
       "      <td>2</td>\n",
       "      <td>0</td>\n",
       "      <td>10.0</td>\n",
       "      <td>1.0</td>\n",
       "      <td>5000.0</td>\n",
       "      <td>1.0</td>\n",
       "      <td>-70.0</td>\n",
       "      <td>0</td>\n",
       "      <td>2</td>\n",
       "      <td>...</td>\n",
       "      <td>False</td>\n",
       "      <td>NaN</td>\n",
       "      <td>NaN</td>\n",
       "      <td>NaN</td>\n",
       "      <td>NaN</td>\n",
       "      <td>NaN</td>\n",
       "      <td>False</td>\n",
       "      <td>NaN</td>\n",
       "      <td>NaN</td>\n",
       "      <td>NaN</td>\n",
       "    </tr>\n",
       "    <tr>\n",
       "      <th>5</th>\n",
       "      <td>0</td>\n",
       "      <td>2</td>\n",
       "      <td>1</td>\n",
       "      <td>10.0</td>\n",
       "      <td>1.0</td>\n",
       "      <td>5000.0</td>\n",
       "      <td>1.0</td>\n",
       "      <td>-70.0</td>\n",
       "      <td>0</td>\n",
       "      <td>2</td>\n",
       "      <td>...</td>\n",
       "      <td>False</td>\n",
       "      <td>NaN</td>\n",
       "      <td>NaN</td>\n",
       "      <td>NaN</td>\n",
       "      <td>NaN</td>\n",
       "      <td>NaN</td>\n",
       "      <td>False</td>\n",
       "      <td>NaN</td>\n",
       "      <td>NaN</td>\n",
       "      <td>NaN</td>\n",
       "    </tr>\n",
       "    <tr>\n",
       "      <th>6</th>\n",
       "      <td>0</td>\n",
       "      <td>3</td>\n",
       "      <td>0</td>\n",
       "      <td>10.0</td>\n",
       "      <td>1.0</td>\n",
       "      <td>5000.0</td>\n",
       "      <td>1.0</td>\n",
       "      <td>-70.0</td>\n",
       "      <td>0</td>\n",
       "      <td>3</td>\n",
       "      <td>...</td>\n",
       "      <td>False</td>\n",
       "      <td>NaN</td>\n",
       "      <td>NaN</td>\n",
       "      <td>NaN</td>\n",
       "      <td>NaN</td>\n",
       "      <td>NaN</td>\n",
       "      <td>False</td>\n",
       "      <td>NaN</td>\n",
       "      <td>NaN</td>\n",
       "      <td>NaN</td>\n",
       "    </tr>\n",
       "    <tr>\n",
       "      <th>7</th>\n",
       "      <td>0</td>\n",
       "      <td>3</td>\n",
       "      <td>1</td>\n",
       "      <td>10.0</td>\n",
       "      <td>1.0</td>\n",
       "      <td>5000.0</td>\n",
       "      <td>1.0</td>\n",
       "      <td>-70.0</td>\n",
       "      <td>0</td>\n",
       "      <td>3</td>\n",
       "      <td>...</td>\n",
       "      <td>False</td>\n",
       "      <td>NaN</td>\n",
       "      <td>NaN</td>\n",
       "      <td>NaN</td>\n",
       "      <td>NaN</td>\n",
       "      <td>NaN</td>\n",
       "      <td>False</td>\n",
       "      <td>NaN</td>\n",
       "      <td>NaN</td>\n",
       "      <td>NaN</td>\n",
       "    </tr>\n",
       "    <tr>\n",
       "      <th>8</th>\n",
       "      <td>0</td>\n",
       "      <td>4</td>\n",
       "      <td>0</td>\n",
       "      <td>10.0</td>\n",
       "      <td>1.0</td>\n",
       "      <td>5000.0</td>\n",
       "      <td>1.0</td>\n",
       "      <td>-70.0</td>\n",
       "      <td>0</td>\n",
       "      <td>4</td>\n",
       "      <td>...</td>\n",
       "      <td>False</td>\n",
       "      <td>NaN</td>\n",
       "      <td>NaN</td>\n",
       "      <td>NaN</td>\n",
       "      <td>NaN</td>\n",
       "      <td>NaN</td>\n",
       "      <td>False</td>\n",
       "      <td>NaN</td>\n",
       "      <td>NaN</td>\n",
       "      <td>NaN</td>\n",
       "    </tr>\n",
       "    <tr>\n",
       "      <th>9</th>\n",
       "      <td>0</td>\n",
       "      <td>4</td>\n",
       "      <td>1</td>\n",
       "      <td>10.0</td>\n",
       "      <td>1.0</td>\n",
       "      <td>5000.0</td>\n",
       "      <td>1.0</td>\n",
       "      <td>-70.0</td>\n",
       "      <td>0</td>\n",
       "      <td>4</td>\n",
       "      <td>...</td>\n",
       "      <td>False</td>\n",
       "      <td>NaN</td>\n",
       "      <td>NaN</td>\n",
       "      <td>NaN</td>\n",
       "      <td>NaN</td>\n",
       "      <td>NaN</td>\n",
       "      <td>False</td>\n",
       "      <td>NaN</td>\n",
       "      <td>NaN</td>\n",
       "      <td>NaN</td>\n",
       "    </tr>\n",
       "  </tbody>\n",
       "</table>\n",
       "<p>10 rows × 25 columns</p>\n",
       "</div>"
      ],
      "text/plain": [
       "   local_cell_index  local_branch_index  local_comp_index  length  radius  \\\n",
       "0                 0                   0                 0    10.0     1.0   \n",
       "1                 0                   0                 1    10.0     1.0   \n",
       "2                 0                   1                 0    10.0     1.0   \n",
       "3                 0                   1                 1    10.0     1.0   \n",
       "4                 0                   2                 0    10.0     1.0   \n",
       "5                 0                   2                 1    10.0     1.0   \n",
       "6                 0                   3                 0    10.0     1.0   \n",
       "7                 0                   3                 1    10.0     1.0   \n",
       "8                 0                   4                 0    10.0     1.0   \n",
       "9                 0                   4                 1    10.0     1.0   \n",
       "\n",
       "   axial_resistivity  capacitance     v  global_cell_index  \\\n",
       "0             5000.0          1.0 -70.0                  0   \n",
       "1             5000.0          1.0 -70.0                  0   \n",
       "2             5000.0          1.0 -70.0                  0   \n",
       "3             5000.0          1.0 -70.0                  0   \n",
       "4             5000.0          1.0 -70.0                  0   \n",
       "5             5000.0          1.0 -70.0                  0   \n",
       "6             5000.0          1.0 -70.0                  0   \n",
       "7             5000.0          1.0 -70.0                  0   \n",
       "8             5000.0          1.0 -70.0                  0   \n",
       "9             5000.0          1.0 -70.0                  0   \n",
       "\n",
       "   global_branch_index  ...     Na  Na_gNa   eNa    vt  Na_m  Na_h      K  \\\n",
       "0                    0  ...   True    0.05  50.0 -60.0   0.2   0.2   True   \n",
       "1                    0  ...   True    0.05  50.0 -60.0   0.2   0.2   True   \n",
       "2                    1  ...  False     NaN   NaN   NaN   NaN   NaN  False   \n",
       "3                    1  ...  False     NaN   NaN   NaN   NaN   NaN  False   \n",
       "4                    2  ...  False     NaN   NaN   NaN   NaN   NaN  False   \n",
       "5                    2  ...  False     NaN   NaN   NaN   NaN   NaN  False   \n",
       "6                    3  ...  False     NaN   NaN   NaN   NaN   NaN  False   \n",
       "7                    3  ...  False     NaN   NaN   NaN   NaN   NaN  False   \n",
       "8                    4  ...  False     NaN   NaN   NaN   NaN   NaN  False   \n",
       "9                    4  ...  False     NaN   NaN   NaN   NaN   NaN  False   \n",
       "\n",
       "    K_gK    eK  K_n  \n",
       "0  0.005 -90.0  0.2  \n",
       "1  0.005 -90.0  0.2  \n",
       "2    NaN   NaN  NaN  \n",
       "3    NaN   NaN  NaN  \n",
       "4    NaN   NaN  NaN  \n",
       "5    NaN   NaN  NaN  \n",
       "6    NaN   NaN  NaN  \n",
       "7    NaN   NaN  NaN  \n",
       "8    NaN   NaN  NaN  \n",
       "9    NaN   NaN  NaN  \n",
       "\n",
       "[10 rows x 25 columns]"
      ]
     },
     "execution_count": 4,
     "metadata": {},
     "output_type": "execute_result"
    }
   ],
   "source": [
    "cell.insert(Leak())\n",
    "cell.branch(0).insert(Na())\n",
    "cell.branch(0).insert(K())\n",
    "cell.nodes # .nodes lists all properties"
   ]
  },
  {
   "cell_type": "code",
   "execution_count": 5,
   "metadata": {},
   "outputs": [
    {
     "data": {
      "text/html": [
       "<div>\n",
       "<style scoped>\n",
       "    .dataframe tbody tr th:only-of-type {\n",
       "        vertical-align: middle;\n",
       "    }\n",
       "\n",
       "    .dataframe tbody tr th {\n",
       "        vertical-align: top;\n",
       "    }\n",
       "\n",
       "    .dataframe thead th {\n",
       "        text-align: right;\n",
       "    }\n",
       "</style>\n",
       "<table border=\"1\" class=\"dataframe\">\n",
       "  <thead>\n",
       "    <tr style=\"text-align: right;\">\n",
       "      <th></th>\n",
       "      <th>local_cell_index</th>\n",
       "      <th>local_branch_index</th>\n",
       "      <th>local_comp_index</th>\n",
       "      <th>length</th>\n",
       "      <th>radius</th>\n",
       "      <th>axial_resistivity</th>\n",
       "      <th>capacitance</th>\n",
       "      <th>v</th>\n",
       "      <th>Leak</th>\n",
       "      <th>Leak_gLeak</th>\n",
       "      <th>...</th>\n",
       "      <th>Na_m</th>\n",
       "      <th>Na_h</th>\n",
       "      <th>K</th>\n",
       "      <th>K_gK</th>\n",
       "      <th>eK</th>\n",
       "      <th>K_n</th>\n",
       "      <th>global_cell_index</th>\n",
       "      <th>global_branch_index</th>\n",
       "      <th>global_comp_index</th>\n",
       "      <th>controlled_by_param</th>\n",
       "    </tr>\n",
       "  </thead>\n",
       "  <tbody>\n",
       "    <tr>\n",
       "      <th>2</th>\n",
       "      <td>0</td>\n",
       "      <td>0</td>\n",
       "      <td>0</td>\n",
       "      <td>10.0</td>\n",
       "      <td>1.0</td>\n",
       "      <td>5000.0</td>\n",
       "      <td>1.0</td>\n",
       "      <td>-70.0</td>\n",
       "      <td>True</td>\n",
       "      <td>0.0001</td>\n",
       "      <td>...</td>\n",
       "      <td>NaN</td>\n",
       "      <td>NaN</td>\n",
       "      <td>False</td>\n",
       "      <td>NaN</td>\n",
       "      <td>NaN</td>\n",
       "      <td>NaN</td>\n",
       "      <td>0</td>\n",
       "      <td>1</td>\n",
       "      <td>2</td>\n",
       "      <td>1</td>\n",
       "    </tr>\n",
       "    <tr>\n",
       "      <th>3</th>\n",
       "      <td>0</td>\n",
       "      <td>0</td>\n",
       "      <td>1</td>\n",
       "      <td>10.0</td>\n",
       "      <td>1.0</td>\n",
       "      <td>5000.0</td>\n",
       "      <td>1.0</td>\n",
       "      <td>-70.0</td>\n",
       "      <td>True</td>\n",
       "      <td>0.0001</td>\n",
       "      <td>...</td>\n",
       "      <td>NaN</td>\n",
       "      <td>NaN</td>\n",
       "      <td>False</td>\n",
       "      <td>NaN</td>\n",
       "      <td>NaN</td>\n",
       "      <td>NaN</td>\n",
       "      <td>0</td>\n",
       "      <td>1</td>\n",
       "      <td>3</td>\n",
       "      <td>1</td>\n",
       "    </tr>\n",
       "  </tbody>\n",
       "</table>\n",
       "<p>2 rows × 25 columns</p>\n",
       "</div>"
      ],
      "text/plain": [
       "   local_cell_index  local_branch_index  local_comp_index  length  radius  \\\n",
       "2                 0                   0                 0    10.0     1.0   \n",
       "3                 0                   0                 1    10.0     1.0   \n",
       "\n",
       "   axial_resistivity  capacitance     v  Leak  Leak_gLeak  ...  Na_m  Na_h  \\\n",
       "2             5000.0          1.0 -70.0  True      0.0001  ...   NaN   NaN   \n",
       "3             5000.0          1.0 -70.0  True      0.0001  ...   NaN   NaN   \n",
       "\n",
       "       K  K_gK  eK  K_n  global_cell_index  global_branch_index  \\\n",
       "2  False   NaN NaN  NaN                  0                    1   \n",
       "3  False   NaN NaN  NaN                  0                    1   \n",
       "\n",
       "   global_comp_index  controlled_by_param  \n",
       "2                  2                    1  \n",
       "3                  3                    1  \n",
       "\n",
       "[2 rows x 25 columns]"
      ]
     },
     "execution_count": 5,
     "metadata": {},
     "output_type": "execute_result"
    }
   ],
   "source": [
    "# get properties of specific branch\n",
    "cell.branch(1).nodes"
   ]
  },
  {
   "cell_type": "markdown",
   "metadata": {},
   "source": [
    "Jaxley uses same units as NEURON simulator: \n",
    "Units used in NEURON. **Some things like point processes have different units**\n",
    "https://www.neuron.yale.edu/neuron/static/docs/units/unitchart.html\n",
    "\n"
   ]
  },
  {
   "cell_type": "code",
   "execution_count": 6,
   "metadata": {},
   "outputs": [
    {
     "data": {
      "image/png": "[encoded data removed]",
      "text/plain": [
       "<Figure size 400x200 with 1 Axes>"
      ]
     },
     "metadata": {},
     "output_type": "display_data"
    }
   ],
   "source": [
    "# you can color branches after creating a visualization\n",
    "fig, ax = plt.subplots(1, 1, figsize=(4, 2))\n",
    "_ = cell.vis(ax=ax, col=\"k\")\n",
    "_ = cell.branch(1).vis(ax=ax, col=\"r\")\n",
    "_ = cell.branch(1).comp(1).vis(ax=ax, col=\"b\")"
   ]
  },
  {
   "cell_type": "markdown",
   "metadata": {},
   "source": [
    "## Changing Parameters"
   ]
  },
  {
   "cell_type": "code",
   "execution_count": 7,
   "metadata": {},
   "outputs": [],
   "source": [
    "# use the .set method by specifiyin a parameter str and then a\n",
    "# value to set it to \n",
    "cell.branch(1).set(\"axial_resistivity\", 200.0)\n",
    "cell.branch(1).nodes\n",
    "cell.branch(0).set(\"K_gK\", 0.01)  # modify potassium conductance.\n",
    "cell.set(\"v\", -65.0)  # modify initial voltage.\n"
   ]
  },
  {
   "cell_type": "markdown",
   "metadata": {},
   "source": [
    "## Stimulate the cell"
   ]
  },
  {
   "cell_type": "code",
   "execution_count": null,
   "metadata": {},
   "outputs": [
    {
     "data": {
      "image/png": "[encoded data removed]",
      "text/plain": [
       "<Figure size 400x200 with 1 Axes>"
      ]
     },
     "metadata": {},
     "output_type": "display_data"
    }
   ],
   "source": [
    "# For defining the step current with which to stimulate cell\n",
    "dt = 0.025\n",
    "t_max = 10.0\n",
    "time_vec = np.arange(0, t_max+dt, dt)\n",
    "current = jx.step_current(i_delay=1.0, i_dur=2.0, i_amp=0.08, delta_t=dt, t_max=t_max)\n",
    "\n",
    "fig, ax = plt.subplots(1, 1, figsize=(4, 2))\n",
    "_ = plt.plot(time_vec, current)"
   ]
  },
  {
   "cell_type": "code",
   "execution_count": null,
   "metadata": {},
   "outputs": [
    {
     "name": "stdout",
     "output_type": "stream",
     "text": [
      "Added 1 external_states. See `.externals` for details.\n"
     ]
    }
   ],
   "source": [
    "# reset stimuli \n",
    "cell.delete_stimuli() \n",
    "\n",
    "# stimulate one compartment\n",
    "cell.branch(0).loc(0.0).stimulate(current)\n",
    "\n",
    "# cell.externals gives array of current"
   ]
  },
  {
   "cell_type": "markdown",
   "metadata": {},
   "source": [
    "## Define recording"
   ]
  },
  {
   "cell_type": "markdown",
   "metadata": {},
   "source": [
    "Basic workflow seems to be to first define stimulation and then define recording and finally simulate cell response"
   ]
  },
  {
   "cell_type": "code",
   "execution_count": 13,
   "metadata": {},
   "outputs": [
    {
     "name": "stdout",
     "output_type": "stream",
     "text": [
      "Added 1 recordings. See `.recordings` for details.\n",
      "Added 1 recordings. See `.recordings` for details.\n"
     ]
    },
    {
     "data": {
      "text/html": [
       "<div>\n",
       "<style scoped>\n",
       "    .dataframe tbody tr th:only-of-type {\n",
       "        vertical-align: middle;\n",
       "    }\n",
       "\n",
       "    .dataframe tbody tr th {\n",
       "        vertical-align: top;\n",
       "    }\n",
       "\n",
       "    .dataframe thead th {\n",
       "        text-align: right;\n",
       "    }\n",
       "</style>\n",
       "<table border=\"1\" class=\"dataframe\">\n",
       "  <thead>\n",
       "    <tr style=\"text-align: right;\">\n",
       "      <th></th>\n",
       "      <th>rec_index</th>\n",
       "      <th>state</th>\n",
       "    </tr>\n",
       "  </thead>\n",
       "  <tbody>\n",
       "    <tr>\n",
       "      <th>0</th>\n",
       "      <td>0</td>\n",
       "      <td>v</td>\n",
       "    </tr>\n",
       "    <tr>\n",
       "      <th>0</th>\n",
       "      <td>7</td>\n",
       "      <td>v</td>\n",
       "    </tr>\n",
       "  </tbody>\n",
       "</table>\n",
       "</div>"
      ],
      "text/plain": [
       "   rec_index state\n",
       "0          0     v\n",
       "0          7     v"
      ]
     },
     "execution_count": 13,
     "metadata": {},
     "output_type": "execute_result"
    }
   ],
   "source": [
    "cell.delete_recordings()\n",
    "cell.branch(0).loc(0.0).record(\"v\")\n",
    "cell.branch(3).loc(1.0).record(\"v\")\n",
    "\n",
    "cell.recordings"
   ]
  },
  {
   "cell_type": "code",
   "execution_count": 15,
   "metadata": {},
   "outputs": [
    {
     "data": {
      "image/png": "[encoded data removed]",
      "text/plain": [
       "<Figure size 400x200 with 1 Axes>"
      ]
     },
     "metadata": {},
     "output_type": "display_data"
    }
   ],
   "source": [
    "# visualize the beanches where you inserted \n",
    "# the recs\n",
    "fig, ax = plt.subplots(1, 1, figsize=(4, 2))\n",
    "_ = cell.vis(ax=ax)\n",
    "_ = cell.branch(0).loc(0.0).vis(ax=ax, col=\"b\")\n",
    "_ = cell.branch(3).loc(1.0).vis(ax=ax, col=\"g\")"
   ]
  },
  {
   "cell_type": "markdown",
   "metadata": {},
   "source": [
    "## Simulate the cell response "
   ]
  },
  {
   "cell_type": "code",
   "execution_count": 16,
   "metadata": {},
   "outputs": [
    {
     "name": "stdout",
     "output_type": "stream",
     "text": [
      "voltages.shape (2, 402)\n"
     ]
    }
   ],
   "source": [
    "# run simulation with .integrate \n",
    "voltages = jx.integrate(cell, delta_t=dt)\n",
    "print(\"voltages.shape\", voltages.shape)\n",
    "# output shape is 2 bc two rec sites and 402 time steps"
   ]
  },
  {
   "cell_type": "code",
   "execution_count": 17,
   "metadata": {},
   "outputs": [
    {
     "data": {
      "image/png": "[encoded data removed]",
      "text/plain": [
       "<Figure size 400x200 with 1 Axes>"
      ]
     },
     "metadata": {},
     "output_type": "display_data"
    }
   ],
   "source": [
    "fig, ax = plt.subplots(1, 1, figsize=(4, 2))\n",
    "_ = ax.plot(voltages[0], c=\"b\")\n",
    "_ = ax.plot(voltages[1], c=\"orange\")"
   ]
  }
 ],
 "metadata": {
  "kernelspec": {
   "display_name": "jaxley_cpu",
   "language": "python",
   "name": "python3"
  },
  "language_info": {
   "codemirror_mode": {
    "name": "ipython",
    "version": 3
   },
   "file_extension": ".py",
   "mimetype": "text/x-python",
   "name": "python",
   "nbconvert_exporter": "python",
   "pygments_lexer": "ipython3",
   "version": "3.11.11"
  }
 },
 "nbformat": 4,
 "nbformat_minor": 2
}
