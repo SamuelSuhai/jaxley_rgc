{
 "cells": [
  {
   "cell_type": "markdown",
   "id": "73f14195",
   "metadata": {},
   "source": [
    "# Training biophysical models\n",
    "\n",
    "In this tutorial, you will learn how to train biophysical models in `Jaxley`. This includes the following:\n",
    "\n",
    "- compute the gradient with respect to parameters  \n",
    "- use parameter transformations  \n",
    "- use multi-level checkpointing  \n",
    "- define optimizers  \n",
    "- write dataloaders and parallelize across data  \n",
    "\n",
    "Here is a code snippet which you will learn to understand in this tutorial:\n",
    "```python\n",
    "from jax import jit, vmap, value_and_grad\n",
    "import jaxley as jx\n",
    "import jaxley.optimize.transforms as jt\n",
    "\n",
    "net = ...  # See tutorial on the basics of `Jaxley`.\n",
    "\n",
    "# Define which parameters to train.\n",
    "net.cell(\"all\").make_trainable(\"HH_gNa\")\n",
    "net.IonotropicSynapse.make_trainable(\"IonotropicSynapse_gS\")\n",
    "parameters = net.get_parameters()\n",
    "\n",
    "# Define parameter transform and apply it to the parameters.\n",
    "transform = jx.ParamTransform([\n",
    "    {\"IonotropicSynapse_gS\": jt.SigmoidTransform(0.0, 1.0)},\n",
    "    {\"HH_gNa\":jt.SigmoidTransform(0.0, 1, 0)}\n",
    "])\n",
    "\n",
    "opt_params = transform.inverse(parameters)\n",
    "\n",
    "# Define simulation and batch it across stimuli.\n",
    "def simulate(params, datapoint):\n",
    "    current = jx.datapoint_to_step_currents(i_delay=1.0, i_dur=1.0, i_amps=datapoint, dt=0.025, t_max=5.0)\n",
    "    data_stimuli = net.cell(0).branch(0).comp(0).data_stimulate(current, None)\n",
    "    return jx.integrate(net, params=params, data_stimuli=data_stimuli, checkpoint_inds=[20, 20], delta_t=0.025)\n",
    "\n",
    "batch_simulate = vmap(simulate, in_axes=(None, 0))\n",
    "\n",
    "# Define loss function and its gradient.\n",
    "def loss_fn(opt_params, datapoints, label):\n",
    "    params = transform.forward(opt_params)\n",
    "    voltages = batch_simulate(params, datapoints)\n",
    "    return jnp.abs(jnp.mean(voltages) - label)\n",
    "\n",
    "grad_fn = jit(value_and_grad(loss_fn, argnums=0))\n",
    "\n",
    "# Define data and dataloader.\n",
    "data = jnp.asarray(np.random.randn(100, 3))\n",
    "dataloader = Dataset.from_tensor_slices((inputs, labels))\n",
    "dataloader = dataloader.shuffle(dataloader.cardinality()).batch(4)\n",
    "\n",
    "# Define the optimizer.\n",
    "optimizer = optax.Adam(lr=0.01)\n",
    "opt_state = optimizer.init_state(opt_params)\n",
    "\n",
    "for epoch in range(10):\n",
    "    for batch in dataloader:\n",
    "        stimuli = batch[0].numpy()\n",
    "        labels = batch[1].numpy()\n",
    "        loss, gradient = grad_fn(opt_params, stimuli, labels)\n",
    "\n",
    "        # Optimizer step.\n",
    "        updates, opt_state = optimizer.update(gradient, opt_state)\n",
    "        opt_params = optax.apply_updates(opt_params, updates)\n",
    "        \n",
    "```"
   ]
  },
  {
   "cell_type": "code",
   "execution_count": 1,
   "id": "1325e915",
   "metadata": {},
   "outputs": [],
   "source": [
    "from jax import config\n",
    "config.update(\"jax_enable_x64\", True)\n",
    "config.update(\"jax_platform_name\", \"cpu\")\n",
    "\n",
    "import matplotlib.pyplot as plt\n",
    "import numpy as np\n",
    "import jax\n",
    "import jax.numpy as jnp\n",
    "from jax import jit, vmap, value_and_grad\n",
    "\n",
    "import jaxley as jx\n",
    "from jaxley.channels import Leak\n",
    "from jaxley.synapses import TanhRateSynapse\n",
    "from jaxley.connect import fully_connect"
   ]
  },
  {
   "cell_type": "markdown",
   "id": "a54c3936",
   "metadata": {},
   "source": [
    "First, we define a network as you saw in the [previous tutorial](https://jaxley.readthedocs.io/en/latest/tutorials/01_morph_neurons.html):"
   ]
  },
  {
   "cell_type": "code",
   "execution_count": 2,
   "id": "c26b3245",
   "metadata": {},
   "outputs": [],
   "source": [
    "_ = np.random.seed(0)  # For synaptic locations.\n",
    "\n",
    "comp = jx.Compartment()\n",
    "branch = jx.Branch(comp, ncomp=2)\n",
    "cell = jx.Cell(branch, parents=[-1, 0, 0])\n",
    "net = jx.Network([cell for _ in range(3)])\n",
    "\n",
    "pre = net.cell([0, 1])\n",
    "post = net.cell([2])\n",
    "fully_connect(pre, post, TanhRateSynapse())\n",
    "\n",
    "# Change some default values of the tanh synapse.\n",
    "net.TanhRateSynapse.set(\"TanhRateSynapse_x_offset\", -60.0)\n",
    "net.TanhRateSynapse.set(\"TanhRateSynapse_gS\", 1e-3)\n",
    "net.TanhRateSynapse.set(\"TanhRateSynapse_slope\", 0.1)\n",
    "\n",
    "net.insert(Leak())"
   ]
  },
  {
   "cell_type": "markdown",
   "id": "e84fdcd7",
   "metadata": {},
   "source": [
    "This network consists of three neurons arranged in two layers:"
   ]
  },
  {
   "cell_type": "code",
   "execution_count": 6,
   "id": "97a9117d",
   "metadata": {},
   "outputs": [
    {
     "data": {
      "text/plain": [
       "NoneType"
      ]
     },
     "execution_count": 6,
     "metadata": {},
     "output_type": "execute_result"
    }
   ],
   "source": [
    "type(net.arrange_in_layers)"
   ]
  },
  {
   "cell_type": "code",
   "execution_count": null,
   "id": "35d75f8a",
   "metadata": {},
   "outputs": [
    {
     "ename": "TypeError",
     "evalue": "'NoneType' object is not callable",
     "output_type": "error",
     "traceback": [
      "\u001b[0;31m---------------------------------------------------------------------------\u001b[0m",
      "\u001b[0;31mTypeError\u001b[0m                                 Traceback (most recent call last)",
      "Cell \u001b[0;32mIn[3], line 3\u001b[0m\n\u001b[1;32m      1\u001b[0m net\u001b[38;5;241m.\u001b[39mcompute_xyz()\n\u001b[1;32m      2\u001b[0m net\u001b[38;5;241m.\u001b[39mrotate(\u001b[38;5;241m180\u001b[39m)\n\u001b[0;32m----> 3\u001b[0m \u001b[43mnet\u001b[49m\u001b[38;5;241;43m.\u001b[39;49m\u001b[43marrange_in_layers\u001b[49m\u001b[43m(\u001b[49m\u001b[43mlayers\u001b[49m\u001b[38;5;241;43m=\u001b[39;49m\u001b[43m[\u001b[49m\u001b[38;5;241;43m2\u001b[39;49m\u001b[43m,\u001b[49m\u001b[43m \u001b[49m\u001b[38;5;241;43m1\u001b[39;49m\u001b[43m]\u001b[49m\u001b[43m,\u001b[49m\u001b[43m \u001b[49m\u001b[43mwithin_layer_offset\u001b[49m\u001b[38;5;241;43m=\u001b[39;49m\u001b[38;5;241;43m100.0\u001b[39;49m\u001b[43m,\u001b[49m\u001b[43m \u001b[49m\u001b[43mbetween_layer_offset\u001b[49m\u001b[38;5;241;43m=\u001b[39;49m\u001b[38;5;241;43m100.0\u001b[39;49m\u001b[43m)\u001b[49m\n\u001b[1;32m      4\u001b[0m fig, ax \u001b[38;5;241m=\u001b[39m plt\u001b[38;5;241m.\u001b[39msubplots(\u001b[38;5;241m1\u001b[39m, \u001b[38;5;241m1\u001b[39m, figsize\u001b[38;5;241m=\u001b[39m(\u001b[38;5;241m3\u001b[39m, \u001b[38;5;241m2\u001b[39m))\n\u001b[1;32m      5\u001b[0m _ \u001b[38;5;241m=\u001b[39m net\u001b[38;5;241m.\u001b[39mvis(ax\u001b[38;5;241m=\u001b[39max, detail\u001b[38;5;241m=\u001b[39m\u001b[38;5;124m\"\u001b[39m\u001b[38;5;124mfull\u001b[39m\u001b[38;5;124m\"\u001b[39m)\n",
      "\u001b[0;31mTypeError\u001b[0m: 'NoneType' object is not callable"
     ]
    }
   ],
   "source": [
    "net.compute_xyz()\n",
    "net.rotate(180)\n",
    "net.arrange_in_layers(layers=[2, 1], within_layer_offset=100.0, between_layer_offset=100.0)\n",
    "fig, ax = plt.subplots(1, 1, figsize=(3, 2))\n",
    "_ = net.vis(ax=ax, detail=\"full\")"
   ]
  },
  {
   "cell_type": "markdown",
   "id": "0b84f9eb",
   "metadata": {},
   "source": [
    "We consider the last neuron as the output neuron and record the voltage from there:"
   ]
  },
  {
   "cell_type": "code",
   "execution_count": 7,
   "id": "9890c8d6",
   "metadata": {},
   "outputs": [
    {
     "name": "stdout",
     "output_type": "stream",
     "text": [
      "Added 1 recordings. See `.recordings` for details.\n",
      "Added 1 recordings. See `.recordings` for details.\n",
      "Added 1 recordings. See `.recordings` for details.\n"
     ]
    }
   ],
   "source": [
    "net.delete_recordings()\n",
    "net.cell(0).branch(0).loc(0.0).record()\n",
    "net.cell(1).branch(0).loc(0.0).record()\n",
    "net.cell(2).branch(0).loc(0.0).record()"
   ]
  },
  {
   "cell_type": "markdown",
   "id": "045e0688",
   "metadata": {},
   "source": [
    "### Defining a dataset"
   ]
  },
  {
   "cell_type": "markdown",
   "id": "278c59ec",
   "metadata": {},
   "source": [
    "We will train this biophysical network on a classification task. The inputs will be values and the label is binary:"
   ]
  },
  {
   "cell_type": "code",
   "execution_count": 8,
   "id": "65aeb105",
   "metadata": {},
   "outputs": [],
   "source": [
    "inputs = jnp.asarray(np.random.rand(100, 2))\n",
    "labels = jnp.asarray((inputs[:, 0] + inputs[:, 1]) > 1.0)"
   ]
  },
  {
   "cell_type": "code",
   "execution_count": 9,
   "id": "850adfee",
   "metadata": {},
   "outputs": [
    {
     "data": {
      "image/png": "[encoded data removed]",
      "text/plain": [
       "<Figure size 300x200 with 1 Axes>"
      ]
     },
     "metadata": {},
     "output_type": "display_data"
    }
   ],
   "source": [
    "fig, ax = plt.subplots(1, 1, figsize=(3, 2))\n",
    "_ = ax.scatter(inputs[labels, 0], inputs[labels, 1])\n",
    "_ = ax.scatter(inputs[~labels, 0], inputs[~labels, 1])"
   ]
  },
  {
   "cell_type": "code",
   "execution_count": 10,
   "id": "5ef01f20",
   "metadata": {},
   "outputs": [],
   "source": [
    "labels = labels.astype(float)"
   ]
  },
  {
   "cell_type": "markdown",
   "id": "d6e92442",
   "metadata": {},
   "source": [
    "### Defining trainable parameters"
   ]
  },
  {
   "cell_type": "code",
   "execution_count": 11,
   "id": "72bd9124",
   "metadata": {},
   "outputs": [],
   "source": [
    "net.delete_trainables()"
   ]
  },
  {
   "cell_type": "markdown",
   "id": "2255ebcd",
   "metadata": {},
   "source": [
    "This follows the same API as `.set()` seen in the previous tutorial. If you want to use a single parameter for all `radius`es in the entire network, do:"
   ]
  },
  {
   "cell_type": "code",
   "execution_count": 12,
   "id": "691dd053",
   "metadata": {},
   "outputs": [
    {
     "name": "stdout",
     "output_type": "stream",
     "text": [
      "Number of newly added trainable parameters: 1. Total number of trainable parameters: 1\n"
     ]
    }
   ],
   "source": [
    "net.make_trainable(\"radius\")"
   ]
  },
  {
   "cell_type": "markdown",
   "id": "f9c9dab6",
   "metadata": {},
   "source": [
    "We can also define parameters for individual compartments. To do this, use the `\"all\"` key. The following defines a separate parameter the sodium conductance for every compartment in the entire network:"
   ]
  },
  {
   "cell_type": "code",
   "execution_count": 13,
   "id": "34155c98",
   "metadata": {},
   "outputs": [
    {
     "name": "stdout",
     "output_type": "stream",
     "text": [
      "Number of newly added trainable parameters: 18. Total number of trainable parameters: 19\n"
     ]
    }
   ],
   "source": [
    "net.cell(\"all\").branch(\"all\").loc(\"all\").make_trainable(\"Leak_gLeak\")"
   ]
  },
  {
   "cell_type": "markdown",
   "id": "c40f24b0",
   "metadata": {},
   "source": [
    "### Making synaptic parameters trainable"
   ]
  },
  {
   "cell_type": "markdown",
   "id": "40941f98",
   "metadata": {},
   "source": [
    "Synaptic parameters can be made trainable in the exact same way. To use a single parameter for all syanptic conductances in the entire network, do\n",
    "```python\n",
    "net.TanhRateSynapse.make_trainable(\"TanhRateSynapse_gS\")\n",
    "```"
   ]
  },
  {
   "cell_type": "markdown",
   "id": "13001ce6",
   "metadata": {},
   "source": [
    "Here, we use a different syanptic conductance for all syanpses. This can be done as follows:"
   ]
  },
  {
   "cell_type": "code",
   "execution_count": 14,
   "id": "2e16cc73",
   "metadata": {},
   "outputs": [
    {
     "name": "stdout",
     "output_type": "stream",
     "text": [
      "Number of newly added trainable parameters: 2. Total number of trainable parameters: 21\n"
     ]
    }
   ],
   "source": [
    "net.TanhRateSynapse.edge(\"all\").make_trainable(\"TanhRateSynapse_gS\")"
   ]
  },
  {
   "cell_type": "markdown",
   "id": "54fe76dc",
   "metadata": {},
   "source": [
    "### Running the simulation"
   ]
  },
  {
   "cell_type": "markdown",
   "id": "1646a963",
   "metadata": {},
   "source": [
    "Once all parameters are defined, you have to use `.get_parameters()` to obtain all trainable parameters. This is also the time to check how many trainable parameters your network has:"
   ]
  },
  {
   "cell_type": "code",
   "execution_count": 15,
   "id": "0e54920c",
   "metadata": {},
   "outputs": [],
   "source": [
    "params = net.get_parameters()"
   ]
  },
  {
   "cell_type": "markdown",
   "id": "be52c812",
   "metadata": {},
   "source": [
    "You can now run the simulation with the trainable parameters by passing them to the `jx.integrate` function."
   ]
  },
  {
   "cell_type": "code",
   "execution_count": 16,
   "id": "6399f3c3",
   "metadata": {},
   "outputs": [],
   "source": [
    "s = jx.integrate(net, params=params, t_max=10.0)"
   ]
  },
  {
   "cell_type": "markdown",
   "id": "30538f09",
   "metadata": {},
   "source": [
    "### Stimulating the network\n",
    "\n",
    "The network above does not yet get any stimuli. We will use the 2D inputs from the dataset to stimulate the two input neurons. The amplitude of the step current corresponds to the input value. Below is the simulator that defines this:"
   ]
  },
  {
   "cell_type": "code",
   "execution_count": 17,
   "id": "cdad490f",
   "metadata": {},
   "outputs": [],
   "source": [
    "def simulate(params, inputs):\n",
    "    currents = jx.datapoint_to_step_currents(i_delay=1.0, i_dur=1.0, i_amp=inputs / 10, delta_t=0.025, t_max=10.0)\n",
    "\n",
    "    data_stimuli = None\n",
    "    data_stimuli = net.cell(0).branch(2).loc(1.0).data_stimulate(currents[0], data_stimuli=data_stimuli)\n",
    "    data_stimuli = net.cell(1).branch(2).loc(1.0).data_stimulate(currents[1], data_stimuli=data_stimuli)\n",
    "\n",
    "    return jx.integrate(net, params=params, data_stimuli=data_stimuli, delta_t=0.025)\n",
    "\n",
    "batched_simulate = vmap(simulate, in_axes=(None, 0))"
   ]
  },
  {
   "cell_type": "markdown",
   "id": "cdece8b6",
   "metadata": {},
   "source": [
    "We can also inspect some traces:"
   ]
  },
  {
   "cell_type": "code",
   "execution_count": 18,
   "id": "82b053d2",
   "metadata": {},
   "outputs": [],
   "source": [
    "traces = batched_simulate(params, inputs[:4])"
   ]
  },
  {
   "cell_type": "code",
   "execution_count": 19,
   "id": "0f0ed9c1",
   "metadata": {},
   "outputs": [
    {
     "data": {
      "image/png": "[encoded data removed]",
      "text/plain": [
       "<Figure size 400x200 with 1 Axes>"
      ]
     },
     "metadata": {},
     "output_type": "display_data"
    }
   ],
   "source": [
    "fig, ax = plt.subplots(1, 1, figsize=(4, 2))\n",
    "_ = ax.plot(traces[:, 2, :].T)"
   ]
  },
  {
   "cell_type": "markdown",
   "id": "0db56fe3",
   "metadata": {},
   "source": [
    "### Defining a loss function"
   ]
  },
  {
   "cell_type": "markdown",
   "id": "34d61937",
   "metadata": {},
   "source": [
    "Let us define a loss function to be optimized:"
   ]
  },
  {
   "cell_type": "code",
   "execution_count": 20,
   "id": "dd214660",
   "metadata": {},
   "outputs": [],
   "source": [
    "def loss(params, inputs, labels):\n",
    "    traces = batched_simulate(params, inputs)  # Shape `(batchsize, num_recordings, timepoints)`.\n",
    "    prediction = jnp.mean(traces[:, 2], axis=1)  # Use the average over time of the output neuron (2) as prediction.\n",
    "    prediction = (prediction + 72.0) / 5  # Such that the prediction is roughly in [0, 1].\n",
    "    losses = jnp.abs(prediction - labels)  # Mean absolute error loss.\n",
    "    return jnp.mean(losses)  # Average across the batch."
   ]
  },
  {
   "cell_type": "markdown",
   "id": "115ec1d9",
   "metadata": {},
   "source": [
    "And we can use `JAX`'s inbuilt functions to take the gradient through the entire ODE:"
   ]
  },
  {
   "cell_type": "code",
   "execution_count": 21,
   "id": "e5c89912",
   "metadata": {},
   "outputs": [],
   "source": [
    "jitted_grad = jit(value_and_grad(loss, argnums=0))"
   ]
  },
  {
   "cell_type": "code",
   "execution_count": 22,
   "id": "4c1da7a7",
   "metadata": {},
   "outputs": [],
   "source": [
    "value, gradient = jitted_grad(params, inputs[:4], labels[:4])"
   ]
  },
  {
   "cell_type": "markdown",
   "id": "4a63f90c",
   "metadata": {},
   "source": [
    "### Defining parameter transformations"
   ]
  },
  {
   "cell_type": "markdown",
   "id": "fd1e309a",
   "metadata": {},
   "source": [
    "Before training, however, we will enforce for all parameters to be within a prespecified range (such that, e.g., conductances can not become negative)"
   ]
  },
  {
   "cell_type": "code",
   "execution_count": 23,
   "id": "949b55de",
   "metadata": {},
   "outputs": [],
   "source": [
    "import jaxley.optimize.transforms as jt"
   ]
  },
  {
   "cell_type": "code",
   "execution_count": 24,
   "id": "3d2610c3",
   "metadata": {},
   "outputs": [],
   "source": [
    "# Define a function to create appropriate transforms for each parameter\n",
    "def create_transform(name):\n",
    "    if name == \"axial_resistivity\":\n",
    "        # Must be positive; apply Softplus and scale to match initialization\n",
    "        return jt.ChainTransform([jt.SoftplusTransform(0), jt.AffineTransform(5000, 0)])\n",
    "    elif name == \"length\":\n",
    "        # Apply Softplus and affine transform for the 'length' parameter\n",
    "        return jt.ChainTransform([jt.SoftplusTransform(0), jt.AffineTransform(10, 0)])\n",
    "    else:\n",
    "        # Default to a Softplus transform for other parameters\n",
    "        return jt.SoftplusTransform(0)\n",
    "\n",
    "# Apply the transforms to the parameters\n",
    "transforms = [{k: create_transform(k) for k in param} for param in params]\n",
    "tf = jt.ParamTransform(transforms)\n"
   ]
  },
  {
   "cell_type": "code",
   "execution_count": 25,
   "id": "5a38ba8a",
   "metadata": {},
   "outputs": [],
   "source": [
    "transform = jx.ParamTransform([{\"radius\": jt.SigmoidTransform(0.1, 5.0)},\n",
    "                               {\"Leak_gLeak\":jt.SigmoidTransform(1e-5, 1e-3)},\n",
    "                               {\"TanhRateSynapse_gS\" : jt.SigmoidTransform(1e-5, 1e-2)}])"
   ]
  },
  {
   "cell_type": "markdown",
   "id": "0d54760e",
   "metadata": {},
   "source": [
    "With these  modify the loss function acocrdingly:"
   ]
  },
  {
   "cell_type": "code",
   "execution_count": 26,
   "id": "e38ef4d3",
   "metadata": {},
   "outputs": [],
   "source": [
    "def loss(opt_params, inputs, labels):\n",
    "    transform.forward(opt_params)\n",
    "\n",
    "    traces = batched_simulate(params, inputs)  # Shape `(batchsize, num_recordings, timepoints)`.\n",
    "    prediction = jnp.mean(traces[:, 2], axis=1)  # Use the average over time of the output neuron (2) as prediction.\n",
    "    prediction = (prediction + 72.0)  # Such that the prediction is around 0.\n",
    "    losses = jnp.abs(prediction - labels)  # Mean absolute error loss.\n",
    "    return jnp.mean(losses)  # Average across the batch."
   ]
  },
  {
   "cell_type": "markdown",
   "id": "31f99f65",
   "metadata": {},
   "source": [
    "### Using checkpointing"
   ]
  },
  {
   "cell_type": "markdown",
   "id": "22c00816",
   "metadata": {},
   "source": [
    "Checkpointing allows to vastly reduce the memory requirements of training biophysical models (see also [JAX's full tutorial on checkpointing](https://jax.readthedocs.io/en/latest/gradient-checkpointing.html))."
   ]
  },
  {
   "cell_type": "code",
   "execution_count": 27,
   "id": "98ac2e6e",
   "metadata": {},
   "outputs": [],
   "source": [
    "t_max = 5.0\n",
    "dt = 0.025\n",
    "\n",
    "levels = 2\n",
    "time_points = t_max // dt + 2\n",
    "checkpoints = [int(np.ceil(time_points**(1/levels))) for _ in range(levels)]"
   ]
  },
  {
   "cell_type": "markdown",
   "id": "8514b640",
   "metadata": {},
   "source": [
    "To enable checkpointing, we have to modify the `simulate` function appropriately and use\n",
    "```python\n",
    "jx.integrate(..., checkpoint_inds=checkpoints)\n",
    "```\n",
    "as done below:"
   ]
  },
  {
   "cell_type": "code",
   "execution_count": 28,
   "id": "ac66eaaa",
   "metadata": {},
   "outputs": [],
   "source": [
    "def simulate(params, inputs):\n",
    "    currents = jx.datapoint_to_step_currents(i_delay=1.0, i_dur=1.0, i_amp=inputs / 10.0, delta_t=dt, t_max=t_max)\n",
    "\n",
    "    data_stimuli = None\n",
    "    data_stimuli = net.cell(0).branch(2).loc(1.0).data_stimulate(currents[0], data_stimuli=data_stimuli)\n",
    "    data_stimuli = net.cell(1).branch(2).loc(1.0).data_stimulate(currents[1], data_stimuli=data_stimuli)\n",
    "\n",
    "    return jx.integrate(net, params=params, data_stimuli=data_stimuli, checkpoint_lengths=checkpoints)\n",
    "\n",
    "batched_simulate = vmap(simulate, in_axes=(None, 0))\n",
    "\n",
    "\n",
    "def predict(params, inputs):\n",
    "    traces = simulate(params, inputs)  # Shape `(batchsize, num_recordings, timepoints)`.\n",
    "    prediction = jnp.mean(traces[2])  # Use the average over time of the output neuron (2) as prediction.\n",
    "    return prediction + 72.0  # Such that the prediction is around 0.\n",
    "\n",
    "batched_predict = vmap(predict, in_axes=(None, 0))\n",
    "\n",
    "\n",
    "def loss(opt_params, inputs, labels):\n",
    "    params = transform.forward(opt_params)\n",
    "\n",
    "    predictions = batched_predict(params, inputs)\n",
    "    losses = jnp.abs(predictions - labels)  # Mean absolute error loss.\n",
    "    return jnp.mean(losses)  # Average across the batch.\n",
    "\n",
    "jitted_grad = jit(value_and_grad(loss, argnums=0))"
   ]
  },
  {
   "cell_type": "markdown",
   "id": "b244b584",
   "metadata": {},
   "source": [
    "### Training\n",
    "\n",
    "We will use the ADAM optimizer from the [optax library](https://optax.readthedocs.io/en/latest/) to optimize the free parameters (you have to install the package with `pip install optax` first):"
   ]
  },
  {
   "cell_type": "code",
   "execution_count": 31,
   "id": "6fe36a86",
   "metadata": {},
   "outputs": [],
   "source": [
    "import optax"
   ]
  },
  {
   "cell_type": "code",
   "execution_count": 32,
   "id": "38075c69",
   "metadata": {},
   "outputs": [],
   "source": [
    "opt_params = transform.inverse(params)\n",
    "optimizer = optax.adam(learning_rate=0.01)\n",
    "opt_state = optimizer.init(opt_params)"
   ]
  },
  {
   "cell_type": "markdown",
   "id": "5202497b",
   "metadata": {},
   "source": [
    "### Writing a dataloader"
   ]
  },
  {
   "cell_type": "markdown",
   "id": "e09ec737",
   "metadata": {},
   "source": [
    "Below, we just write our own (very simple) dataloader. Alternatively, you could use the dataloader from any deep learning library such as pytorch or tensorflow:"
   ]
  },
  {
   "cell_type": "code",
   "execution_count": 33,
   "id": "561bbb4c",
   "metadata": {},
   "outputs": [],
   "source": [
    "class Dataset:\n",
    "    def __init__(self, inputs: np.ndarray, labels: np.ndarray):\n",
    "        \"\"\"Simple Dataloader.\n",
    "        \n",
    "        Args:\n",
    "            inputs: Array of shape (num_samples, num_dim)\n",
    "            labels: Array of shape (num_samples,)\n",
    "        \"\"\"\n",
    "        assert len(inputs) == len(labels), \"Inputs and labels must have same length\"\n",
    "        self.inputs = inputs\n",
    "        self.labels = labels\n",
    "        self.num_samples = len(inputs)\n",
    "        self._rng_state = None\n",
    "        self.batch_size = 1\n",
    "    \n",
    "    def shuffle(self, seed=None):\n",
    "        \"\"\"Shuffle the dataset in-place\"\"\"\n",
    "        self._rng_state = np.random.get_state()[1][0] if seed is None else seed\n",
    "        np.random.seed(self._rng_state)\n",
    "        indices = np.random.permutation(self.num_samples)\n",
    "        self.inputs = self.inputs[indices]\n",
    "        self.labels = self.labels[indices]\n",
    "        return self\n",
    "    \n",
    "    def batch(self, batch_size):\n",
    "        \"\"\"Create batches of the data\"\"\"\n",
    "        self.batch_size = batch_size\n",
    "        return self\n",
    "\n",
    "    def __iter__(self):\n",
    "        self.shuffle(seed=self._rng_state)\n",
    "        for start in range(0, self.num_samples, self.batch_size):\n",
    "            end = min(start + self.batch_size, self.num_samples)\n",
    "            yield self.inputs[start:end], self.labels[start:end]\n",
    "        self._rng_state += 1"
   ]
  },
  {
   "cell_type": "markdown",
   "id": "e7539391",
   "metadata": {},
   "source": [
    "### Training loop"
   ]
  },
  {
   "cell_type": "code",
   "execution_count": 34,
   "id": "5081fbfa",
   "metadata": {},
   "outputs": [
    {
     "name": "stdout",
     "output_type": "stream",
     "text": [
      "epoch 0, loss 25.033223182769028\n",
      "epoch 1, loss 21.00894915351252\n",
      "epoch 2, loss 15.092242959961839\n",
      "epoch 3, loss 9.061544660380907\n",
      "epoch 4, loss 6.925509860328957\n",
      "epoch 5, loss 6.273630037895937\n",
      "epoch 6, loss 6.1757316054657005\n",
      "epoch 7, loss 6.1351325257317155\n",
      "epoch 8, loss 6.145608619187424\n",
      "epoch 9, loss 6.135660902070384\n"
     ]
    }
   ],
   "source": [
    "batch_size = 4\n",
    "dataloader = Dataset(inputs, labels)\n",
    "dataloader = dataloader.shuffle(seed=0).batch(batch_size)\n",
    "\n",
    "for epoch in range(10):\n",
    "    epoch_loss = 0.0\n",
    "    \n",
    "    for batch_ind, batch in enumerate(dataloader):\n",
    "        current_batch, label_batch = batch\n",
    "        loss_val, gradient = jitted_grad(opt_params, current_batch, label_batch)\n",
    "        updates, opt_state = optimizer.update(gradient, opt_state)\n",
    "        opt_params = optax.apply_updates(opt_params, updates)\n",
    "        epoch_loss += loss_val\n",
    "    \n",
    "    print(f\"epoch {epoch}, loss {epoch_loss}\")\n",
    "    \n",
    "final_params = transform.forward(opt_params)"
   ]
  },
  {
   "cell_type": "code",
   "execution_count": 35,
   "id": "c921f113",
   "metadata": {},
   "outputs": [],
   "source": [
    "ntest = 32\n",
    "predictions = batched_predict(final_params, inputs[:ntest])"
   ]
  },
  {
   "cell_type": "code",
   "execution_count": 36,
   "id": "7cf81d3e",
   "metadata": {},
   "outputs": [
    {
     "data": {
      "image/png": "[encoded data removed]",
      "text/plain": [
       "<Figure size 300x200 with 1 Axes>"
      ]
     },
     "metadata": {},
     "output_type": "display_data"
    }
   ],
   "source": [
    "fig, ax = plt.subplots(1, 1, figsize=(3, 2))\n",
    "_ = ax.scatter(labels[:ntest], predictions)\n",
    "_ = ax.set_xlabel(\"Label\")\n",
    "_ = ax.set_ylabel(\"Prediction\")"
   ]
  },
  {
   "cell_type": "markdown",
   "id": "703ccef2",
   "metadata": {},
   "source": [
    "Indeed, the loss goes down and the network successfully classifies the patterns."
   ]
  },
  {
   "cell_type": "markdown",
   "id": "55ef0076",
   "metadata": {},
   "source": [
    "### Summary"
   ]
  },
  {
   "cell_type": "markdown",
   "id": "73deafa7",
   "metadata": {},
   "source": [
    "Puh, this was a pretty dense tutorial with a lot of material. You should have learned how to:\n",
    "\n",
    "- compute the gradient with respect to parameters  \n",
    "- use parameter transformations  \n",
    "- use multi-level checkpointing  \n",
    "- define optimizers  \n",
    "- write dataloaders and parallelize across data  "
   ]
  },
  {
   "cell_type": "markdown",
   "id": "c11d1b78",
   "metadata": {},
   "source": [
    "This was the last \"basic\" tutorial of the `Jaxley` toolbox. If you want to learn more, check out our [Advanced Tutorials](https://jaxley.readthedocs.io/en/latest/advanced_tutorials.html). If anything is still unclear please create a [discussion](https://github.com/jaxleyverse/jaxley/discussions). If you find any bugs, please open an [issue](https://github.com/jaxleyverse/jaxley/issues). Happy coding!"
   ]
  }
 ],
 "metadata": {
  "kernelspec": {
   "display_name": "jaxley_cpu",
   "language": "python",
   "name": "python3"
  },
  "language_info": {
   "codemirror_mode": {
    "name": "ipython",
    "version": 3
   },
   "file_extension": ".py",
   "mimetype": "text/x-python",
   "name": "python",
   "nbconvert_exporter": "python",
   "pygments_lexer": "ipython3",
   "version": "3.11.11"
  }
 },
 "nbformat": 4,
 "nbformat_minor": 5
}
