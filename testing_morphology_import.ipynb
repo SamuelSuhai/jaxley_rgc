{
 "cells": [
  {
   "cell_type": "code",
   "execution_count": 1,
   "id": "07cf5217-eae1-40f8-979d-8f6dcfd50ee4",
   "metadata": {},
   "outputs": [],
   "source": [
    "import jaxley as jx\n",
    "from jaxley.synapses import IonotropicSynapse\n",
    "import matplotlib.pyplot as plt"
   ]
  },
  {
   "cell_type": "code",
   "execution_count": null,
   "id": "e4b2371c-a8a1-4d95-a91d-a19ae775bf03",
   "metadata": {},
   "outputs": [],
   "source": [
    "# rmove -1s \n",
    "import pandas as pd\n",
    "\n",
    "# Define the SWC column names\n",
    "swc_columns = [\"id\", \"type\", \"x\", \"y\", \"z\", \"radius\", \"parent\"]\n",
    "\n",
    "# Load an SWC file, preserving headers\n",
    "def read_swc_with_header(file_path):\n",
    "    with open(file_path, \"r\") as file:\n",
    "        # Read header lines\n",
    "        header = []\n",
    "        while True:\n",
    "            line = file.readline()\n",
    "            if line.startswith(\"#\"):\n",
    "                header.append(line.strip())\n",
    "            else:\n",
    "                break\n",
    "        \n",
    "        # Read the data starting from the non-header line\n",
    "        data = pd.read_csv(file, delim_whitespace=True, names=swc_columns)\n",
    "    \n",
    "    return header, data\n",
    "\n",
    "# Save an SWC file, preserving headers\n",
    "def write_swc_with_header(header, df, file_path):\n",
    "    with open(file_path, \"w\") as file:\n",
    "        # Write header lines\n",
    "        for line in header:\n",
    "            file.write(line + \"\\n\")\n",
    "        \n",
    "        # Write the data\n",
    "        df.to_csv(file, sep=\" \", index=False, header=False)\n",
    "\n",
    "# Example usage\n",
    "input_file = \"example.swc\"  # Path to your SWC file\n",
    "header, data = read_swc_with_header(input_file)\n",
    "\n",
    "# Modify the data (example: increase radius by 1.5x)\n",
    "data[\"radius\"] *= 1.5\n",
    "\n",
    "# Save the modified file\n",
    "output_file = \"modified_example.swc\"\n",
    "write_swc_with_header(header, data, output_file)\n",
    "\n",
    "print(f\"Modified SWC file saved to {output_file}\")\n"
   ]
  },
  {
   "cell_type": "code",
   "execution_count": 13,
   "id": "925becd7-1d70-4cab-85f5-4676de4ff290",
   "metadata": {},
   "outputs": [
    {
     "ename": "AssertionError",
     "evalue": "Trying to connect a segment to the beginning of \n            another segment. This is not allowed. Please create an issue on github.",
     "output_type": "error",
     "traceback": [
      "\u001b[0;31m---------------------------------------------------------------------------\u001b[0m",
      "\u001b[0;31mAssertionError\u001b[0m                            Traceback (most recent call last)",
      "Cell \u001b[0;32mIn[13], line 4\u001b[0m\n\u001b[1;32m      2\u001b[0m fname \u001b[38;5;241m=\u001b[39m \u001b[38;5;124m\"\u001b[39m\u001b[38;5;124mtoydata/20200708/test.swc\u001b[39m\u001b[38;5;124m\"\u001b[39m\n\u001b[1;32m      3\u001b[0m \u001b[38;5;66;03m#fname = \"tutorials/data/morph.swc\"\u001b[39;00m\n\u001b[0;32m----> 4\u001b[0m cell \u001b[38;5;241m=\u001b[39m \u001b[43mjx\u001b[49m\u001b[38;5;241;43m.\u001b[39;49m\u001b[43mread_swc\u001b[49m\u001b[43m(\u001b[49m\u001b[43mfname\u001b[49m\u001b[43m,\u001b[49m\u001b[43mncomp\u001b[49m\u001b[38;5;241;43m=\u001b[39;49m\u001b[38;5;241;43m2\u001b[39;49m\u001b[43m)\u001b[49m  \u001b[38;5;66;03m# Use eight compartments per branch.\u001b[39;00m\n\u001b[1;32m      6\u001b[0m \u001b[38;5;66;03m# print shape (num_branches, num_comps)\u001b[39;00m\n\u001b[1;32m      7\u001b[0m \u001b[38;5;28mprint\u001b[39m(cell\u001b[38;5;241m.\u001b[39mshape)\n",
      "File \u001b[0;32m~/GitRepos/jaxley/jaxley/utils/misc_utils.py:98\u001b[0m, in \u001b[0;36mdeprecated_kwargs.__call__.<locals>.wrapper\u001b[0;34m(*args, **kwargs)\u001b[0m\n\u001b[1;32m     93\u001b[0m         msg \u001b[38;5;241m=\u001b[39m (\n\u001b[1;32m     94\u001b[0m             \u001b[38;5;124mf\u001b[39m\u001b[38;5;124m\"\u001b[39m\u001b[38;5;132;01m{\u001b[39;00mdeprecated_kwarg\u001b[38;5;132;01m}\u001b[39;00m\u001b[38;5;124m is deprecated and will be removed in \u001b[39m\u001b[38;5;124m\"\u001b[39m\n\u001b[1;32m     95\u001b[0m             \u001b[38;5;124mf\u001b[39m\u001b[38;5;124m\"\u001b[39m\u001b[38;5;124mversion \u001b[39m\u001b[38;5;132;01m{\u001b[39;00m\u001b[38;5;28mself\u001b[39m\u001b[38;5;241m.\u001b[39m_version\u001b[38;5;132;01m}\u001b[39;00m\u001b[38;5;124m.\u001b[39m\u001b[38;5;124m\"\u001b[39m\n\u001b[1;32m     96\u001b[0m         )\n\u001b[1;32m     97\u001b[0m         warnings\u001b[38;5;241m.\u001b[39mwarn(msg \u001b[38;5;241m+\u001b[39m \u001b[38;5;28mself\u001b[39m\u001b[38;5;241m.\u001b[39m_amend_msg)\n\u001b[0;32m---> 98\u001b[0m \u001b[38;5;28;01mreturn\u001b[39;00m \u001b[43mfunc\u001b[49m\u001b[43m(\u001b[49m\u001b[38;5;241;43m*\u001b[39;49m\u001b[43margs\u001b[49m\u001b[43m,\u001b[49m\u001b[43m \u001b[49m\u001b[38;5;241;43m*\u001b[39;49m\u001b[38;5;241;43m*\u001b[39;49m\u001b[43mkwargs\u001b[49m\u001b[43m)\u001b[49m\n",
      "File \u001b[0;32m~/GitRepos/jaxley/jaxley/io/swc.py:136\u001b[0m, in \u001b[0;36mread_swc\u001b[0;34m(fname, ncomp, nseg, max_branch_len, min_radius, assign_groups)\u001b[0m\n\u001b[1;32m    133\u001b[0m \u001b[38;5;28;01mif\u001b[39;00m ncomp \u001b[38;5;129;01mis\u001b[39;00m \u001b[38;5;28;01mNone\u001b[39;00m \u001b[38;5;129;01mand\u001b[39;00m nseg \u001b[38;5;129;01mis\u001b[39;00m \u001b[38;5;129;01mnot\u001b[39;00m \u001b[38;5;28;01mNone\u001b[39;00m:\n\u001b[1;32m    134\u001b[0m     ncomp \u001b[38;5;241m=\u001b[39m nseg\n\u001b[0;32m--> 136\u001b[0m parents, pathlengths, radius_fns, types, coords_of_branches \u001b[38;5;241m=\u001b[39m \u001b[43mswc_to_jaxley\u001b[49m\u001b[43m(\u001b[49m\n\u001b[1;32m    137\u001b[0m \u001b[43m    \u001b[49m\u001b[43mfname\u001b[49m\u001b[43m,\u001b[49m\u001b[43m \u001b[49m\u001b[43mmax_branch_len\u001b[49m\u001b[38;5;241;43m=\u001b[39;49m\u001b[43mmax_branch_len\u001b[49m\u001b[43m,\u001b[49m\u001b[43m \u001b[49m\u001b[43msort\u001b[49m\u001b[38;5;241;43m=\u001b[39;49m\u001b[38;5;28;43;01mTrue\u001b[39;49;00m\u001b[43m,\u001b[49m\u001b[43m \u001b[49m\u001b[43mnum_lines\u001b[49m\u001b[38;5;241;43m=\u001b[39;49m\u001b[38;5;28;43;01mNone\u001b[39;49;00m\n\u001b[1;32m    138\u001b[0m \u001b[43m\u001b[49m\u001b[43m)\u001b[49m\n\u001b[1;32m    139\u001b[0m nbranches \u001b[38;5;241m=\u001b[39m \u001b[38;5;28mlen\u001b[39m(parents)\n\u001b[1;32m    141\u001b[0m comp \u001b[38;5;241m=\u001b[39m Compartment()\n",
      "File \u001b[0;32m~/GitRepos/jaxley/jaxley/io/swc.py:56\u001b[0m, in \u001b[0;36mswc_to_jaxley\u001b[0;34m(fname, max_branch_len, sort, num_lines)\u001b[0m\n\u001b[1;32m     44\u001b[0m     warn(\n\u001b[1;32m     45\u001b[0m         \u001b[38;5;124m\"\u001b[39m\u001b[38;5;124mFound a soma which consists of a single traced point. `Jaxley` \u001b[39m\u001b[38;5;124m\"\u001b[39m\n\u001b[1;32m     46\u001b[0m         \u001b[38;5;124m\"\u001b[39m\u001b[38;5;124minterprets this soma as a spherical compartment with radius \u001b[39m\u001b[38;5;124m\"\u001b[39m\n\u001b[1;32m     47\u001b[0m         \u001b[38;5;124m\"\u001b[39m\u001b[38;5;124mspecified in the SWC file, i.e. with surface area 4*pi*r*r.\u001b[39m\u001b[38;5;124m\"\u001b[39m\n\u001b[1;32m     48\u001b[0m     )\n\u001b[1;32m     49\u001b[0m sorted_branches, types \u001b[38;5;241m=\u001b[39m _split_into_branches_and_sort(\n\u001b[1;32m     50\u001b[0m     content,\n\u001b[1;32m     51\u001b[0m     max_branch_len\u001b[38;5;241m=\u001b[39mmax_branch_len,\n\u001b[1;32m     52\u001b[0m     is_single_point_soma\u001b[38;5;241m=\u001b[39mis_single_point_soma,\n\u001b[1;32m     53\u001b[0m     sort\u001b[38;5;241m=\u001b[39msort,\n\u001b[1;32m     54\u001b[0m )\n\u001b[0;32m---> 56\u001b[0m parents \u001b[38;5;241m=\u001b[39m \u001b[43m_build_parents\u001b[49m\u001b[43m(\u001b[49m\u001b[43msorted_branches\u001b[49m\u001b[43m)\u001b[49m\n\u001b[1;32m     57\u001b[0m each_length \u001b[38;5;241m=\u001b[39m _compute_pathlengths(\n\u001b[1;32m     58\u001b[0m     sorted_branches, content[:, \u001b[38;5;241m1\u001b[39m:\u001b[38;5;241m6\u001b[39m], is_single_point_soma\u001b[38;5;241m=\u001b[39mis_single_point_soma\n\u001b[1;32m     59\u001b[0m )\n\u001b[1;32m     60\u001b[0m pathlengths \u001b[38;5;241m=\u001b[39m [np\u001b[38;5;241m.\u001b[39msum(length_traced) \u001b[38;5;28;01mfor\u001b[39;00m length_traced \u001b[38;5;129;01min\u001b[39;00m each_length]\n",
      "File \u001b[0;32m~/GitRepos/jaxley/jaxley/utils/cell_utils.py:157\u001b[0m, in \u001b[0;36m_build_parents\u001b[0;34m(all_branches)\u001b[0m\n\u001b[1;32m    154\u001b[0m         parents[i] \u001b[38;5;241m=\u001b[39m ind[\u001b[38;5;241m0\u001b[39m]\n\u001b[1;32m    155\u001b[0m     \u001b[38;5;28;01melse\u001b[39;00m:\n\u001b[1;32m    156\u001b[0m         \u001b[38;5;28;01massert\u001b[39;00m (\n\u001b[0;32m--> 157\u001b[0m             parent_ind \u001b[38;5;241m==\u001b[39m \u001b[38;5;241m1\u001b[39m\n\u001b[1;32m    158\u001b[0m         ), \u001b[38;5;124m\"\"\"\u001b[39m\u001b[38;5;124mTrying to connect a segment to the beginning of \u001b[39m\n\u001b[1;32m    159\u001b[0m \u001b[38;5;124m        another segment. This is not allowed. Please create an issue on github.\u001b[39m\u001b[38;5;124m\"\"\"\u001b[39m\n\u001b[1;32m    160\u001b[0m         parents[i] \u001b[38;5;241m=\u001b[39m \u001b[38;5;241m-\u001b[39m\u001b[38;5;241m1\u001b[39m\n\u001b[1;32m    162\u001b[0m \u001b[38;5;28;01mreturn\u001b[39;00m parents\n",
      "\u001b[0;31mAssertionError\u001b[0m: Trying to connect a segment to the beginning of \n            another segment. This is not allowed. Please create an issue on github."
     ]
    }
   ],
   "source": [
    "\n",
    "# import swc file into jx.Cell object\n",
    "fname = \"toydata/20200708/upper_bvs.swc\"\n",
    "#fname = \"tutorials/data/morph.swc\"\n",
    "cell = jx.read_swc(fname,ncomp=2)  # Use eight compartments per branch.\n",
    "\n",
    "# print shape (num_branches, num_comps)\n",
    "print(cell.shape)\n",
    "\n",
    "cell.show()"
   ]
  }
 ],
 "metadata": {
  "kernelspec": {
   "display_name": "Python 3 (ipykernel)",
   "language": "python",
   "name": "python3"
  },
  "language_info": {
   "codemirror_mode": {
    "name": "ipython",
    "version": 3
   },
   "file_extension": ".py",
   "mimetype": "text/x-python",
   "name": "python",
   "nbconvert_exporter": "python",
   "pygments_lexer": "ipython3",
   "version": "3.12.8"
  }
 },
 "nbformat": 4,
 "nbformat_minor": 5
}
