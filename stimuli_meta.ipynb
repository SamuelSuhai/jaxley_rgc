{
 "cells": [
  {
   "cell_type": "code",
   "execution_count": 1,
   "id": "9342462e-796b-4a86-946e-23d32c808922",
   "metadata": {},
   "outputs": [],
   "source": [
    "%load_ext autoreload\n",
    "%autoreload 2\n",
    "%matplotlib inline"
   ]
  },
  {
   "cell_type": "code",
   "execution_count": 1,
   "id": "8553e015-7005-4253-8103-288e929fe218",
   "metadata": {},
   "outputs": [],
   "source": [
    "from jax import config\n",
    "\n",
    "config.update(\"jax_enable_x64\", True)\n",
    "# config.update(\"jax_platform_name\", \"cpu\")\n",
    "\n",
    "import os\n",
    "os.environ[\"XLA_PYTHON_CLIENT_MEM_FRACTION\"] = \".8\""
   ]
  },
  {
   "cell_type": "code",
   "execution_count": 2,
   "id": "10714d30-899a-4c38-950f-973d12e8d277",
   "metadata": {},
   "outputs": [],
   "source": [
    "import numpy as np\n",
    "import matplotlib.pyplot as plt\n",
    "import h5py\n",
    "import pandas as pd\n",
    "import matplotlib as mpl\n",
    "\n",
    "import jaxley as jx"
   ]
  },
  {
   "cell_type": "code",
   "execution_count": 6,
   "id": "d0a68cf5-5507-428a-a126-caa5666e3c34",
   "metadata": {},
   "outputs": [
    {
     "name": "stdout",
     "output_type": "stream",
     "text": [
      "['cell_2020-07-08.pkl']\n"
     ]
    }
   ],
   "source": [
    "rec_id = 'd1'  # Can pick any here.\n",
    "\n",
    "import os\n",
    "home_directory = os.path.expanduser(\"~\")\n",
    "data_dir = f'{home_directory}/GitRepos/jaxley_rgc/extracted_data'\n",
    "setup_file = [f for f in os.listdir(data_dir) if f.endswith('.pkl') and f.startswith('cell')]\n",
    "print(setup_file)\n",
    "\n",
    "all_dfs = pd.read_pickle(f'{data_dir}/{setup_file[0]}')\n",
    "recording_id = all_dfs.loc[0,'recording_id']\n",
    "morph_file = [f for f in os.listdir(f'{data_dir}/morphology/{recording_id}') if f.endswith('.swc')]\n",
    "\n",
    "\n",
    "\n",
    "assert os.path.isdir(data_dir)"
   ]
  },
  {
   "cell_type": "code",
   "execution_count": 4,
   "id": "775d2c16-37fb-46c3-8963-6001eb7be72e",
   "metadata": {},
   "outputs": [
    {
     "name": "stderr",
     "output_type": "stream",
     "text": [
      "/gpfs01/euler/User/ssuhai/GitRepos/jaxley/jaxley/utils/misc_utils.py:97: UserWarning: nseg is deprecated and will be removed in version 0.6.0.\n",
      "  warnings.warn(msg + self._amend_msg)\n",
      "E0117 16:46:59.356877   22956 hlo_lexer.cc:443] Failed to parse int literal: 58800360702711838510\n"
     ]
    }
   ],
   "source": [
    "cell = jx.read_swc(f\"{data_dir}/morphology/{recording_id}/{morph_file[0]}\", nseg=4, max_branch_len=300.0, min_radius=5.0)"
   ]
  },
  {
   "cell_type": "code",
   "execution_count": 7,
   "id": "58cd89c2-2f37-4ed1-94ec-3694a456adc6",
   "metadata": {},
   "outputs": [],
   "source": [
    "bc_file = f\"{data_dir}/off_bc_output_rec_id_{recording_id}_{rec_id}.pkl\"\n",
    "bc_output_df = pd.read_pickle(bc_file)"
   ]
  },
  {
   "cell_type": "code",
   "execution_count": 8,
   "id": "70fce154-090e-429c-9519-e0374828c785",
   "metadata": {},
   "outputs": [],
   "source": [
    "stim = bc_output_df\n",
    "stim = stim[stim[\"rec_id\"] == rec_id]"
   ]
  },
  {
   "cell_type": "code",
   "execution_count": 9,
   "id": "427bc7a9-2449-4137-813c-d715581c785a",
   "metadata": {},
   "outputs": [],
   "source": [
    "def compute_jaxley_stim_locations(x, y):\n",
    "    \"\"\"For a given (x,y) location, return all branch and compartment inds within a specified distance.\"\"\"\n",
    "    min_dists = []\n",
    "    min_comps = []\n",
    "    branch_inds_in_pixel = []\n",
    "    comps_in_pixel = []\n",
    "    min_dist_of_branch_in_pixel = []\n",
    "\n",
    "    for i, xyzr in enumerate(cell.xyzr):\n",
    "        dists = np.sqrt((x - xyzr[:, 0])**2 + (y - xyzr[:, 1])**2)\n",
    "        is_in_reach = np.min(dists) < 20  # 20 um\n",
    "\n",
    "        if is_in_reach:\n",
    "            branch_inds_in_pixel.append(i)\n",
    "            min_dist_of_branch_in_pixel.append(np.min(dists))\n",
    "            \n",
    "            argmin_dist = np.argmin(dists)\n",
    "            if len(dists) > 1:\n",
    "                comp = argmin_dist / (len(dists) - 1)\n",
    "            else:\n",
    "                comp = 0.5\n",
    "            comps_in_pixel.append(comp)\n",
    "            \n",
    "    return branch_inds_in_pixel, comps_in_pixel, min_dist_of_branch_in_pixel"
   ]
  },
  {
   "cell_type": "code",
   "execution_count": 10,
   "id": "83f2b85b-5e52-4e3f-9d02-5c6928d57a7f",
   "metadata": {},
   "outputs": [],
   "source": [
    "bc_loc_x = stim[\"x_loc\"].to_numpy()\n",
    "bc_loc_y = stim[\"y_loc\"].to_numpy()\n",
    "bc_ids = stim[\"bc_id\"].to_numpy()"
   ]
  },
  {
   "cell_type": "code",
   "execution_count": 12,
   "id": "546569bb-0ed7-435c-b64e-403fea340ab1",
   "metadata": {},
   "outputs": [],
   "source": [
    "bcs_which_stimulate = 0\n",
    "\n",
    "branch_inds_for_every_bc = []\n",
    "comp_inds_for_every_bc = []\n",
    "mind_dists_of_branches_for_every_bc = []\n",
    "bc_ids_per_stim = []\n",
    "\n",
    "for x, y, id in zip(bc_loc_x, bc_loc_y, bc_ids):\n",
    "    branches, comps, min_dist_of_branch_in_pixel = compute_jaxley_stim_locations(x, y)\n",
    "    branch_inds_for_every_bc += branches\n",
    "    comp_inds_for_every_bc += comps\n",
    "    mind_dists_of_branches_for_every_bc += min_dist_of_branch_in_pixel\n",
    "    bc_ids_per_stim += [id] * len(branches)"
   ]
  },
  {
   "cell_type": "code",
   "execution_count": null,
   "id": "a29d66fb-0bce-4abd-aa66-802de926e505",
   "metadata": {},
   "outputs": [],
   "source": [
    "#TODO:again this is confusing\n",
    "cell_id =recording_id"
   ]
  },
  {
   "cell_type": "code",
   "execution_count": 15,
   "id": "4564bbf4-c83f-4f46-9787-65ac9d1a855f",
   "metadata": {},
   "outputs": [],
   "source": [
    "stim_df = pd.DataFrame().from_dict(\n",
    "    {\n",
    "        \"cell_id\": cell_id, \n",
    "        \"bc_id\": bc_ids_per_stim, \n",
    "        \"branch_ind\": branch_inds_for_every_bc, \n",
    "        \"comp\": comp_inds_for_every_bc, \n",
    "        \"dist_from_bc\": mind_dists_of_branches_for_every_bc\n",
    "    }\n",
    ")"
   ]
  },
  {
   "cell_type": "code",
   "execution_count": 18,
   "id": "0178c66c-c7a9-41da-9271-68b3bffb01b3",
   "metadata": {},
   "outputs": [
    {
     "data": {
      "text/html": [
       "<div>\n",
       "<style scoped>\n",
       "    .dataframe tbody tr th:only-of-type {\n",
       "        vertical-align: middle;\n",
       "    }\n",
       "\n",
       "    .dataframe tbody tr th {\n",
       "        vertical-align: top;\n",
       "    }\n",
       "\n",
       "    .dataframe thead th {\n",
       "        text-align: right;\n",
       "    }\n",
       "</style>\n",
       "<table border=\"1\" class=\"dataframe\">\n",
       "  <thead>\n",
       "    <tr style=\"text-align: right;\">\n",
       "      <th></th>\n",
       "      <th>cell_id</th>\n",
       "      <th>bc_id</th>\n",
       "      <th>branch_ind</th>\n",
       "      <th>comp</th>\n",
       "      <th>dist_from_bc</th>\n",
       "      <th>num_synapses_of_bc</th>\n",
       "    </tr>\n",
       "  </thead>\n",
       "  <tbody>\n",
       "    <tr>\n",
       "      <th>0</th>\n",
       "      <td>2020-07-08</td>\n",
       "      <td>17</td>\n",
       "      <td>19</td>\n",
       "      <td>0.964286</td>\n",
       "      <td>17.850997</td>\n",
       "      <td>1</td>\n",
       "    </tr>\n",
       "    <tr>\n",
       "      <th>1</th>\n",
       "      <td>2020-07-08</td>\n",
       "      <td>26</td>\n",
       "      <td>19</td>\n",
       "      <td>0.765306</td>\n",
       "      <td>1.225495</td>\n",
       "      <td>1</td>\n",
       "    </tr>\n",
       "    <tr>\n",
       "      <th>2</th>\n",
       "      <td>2020-07-08</td>\n",
       "      <td>29</td>\n",
       "      <td>23</td>\n",
       "      <td>0.982955</td>\n",
       "      <td>1.113831</td>\n",
       "      <td>1</td>\n",
       "    </tr>\n",
       "    <tr>\n",
       "      <th>3</th>\n",
       "      <td>2020-07-08</td>\n",
       "      <td>35</td>\n",
       "      <td>18</td>\n",
       "      <td>0.970149</td>\n",
       "      <td>1.795016</td>\n",
       "      <td>1</td>\n",
       "    </tr>\n",
       "    <tr>\n",
       "      <th>4</th>\n",
       "      <td>2020-07-08</td>\n",
       "      <td>36</td>\n",
       "      <td>17</td>\n",
       "      <td>0.902439</td>\n",
       "      <td>7.369344</td>\n",
       "      <td>2</td>\n",
       "    </tr>\n",
       "    <tr>\n",
       "      <th>...</th>\n",
       "      <td>...</td>\n",
       "      <td>...</td>\n",
       "      <td>...</td>\n",
       "      <td>...</td>\n",
       "      <td>...</td>\n",
       "      <td>...</td>\n",
       "    </tr>\n",
       "    <tr>\n",
       "      <th>139</th>\n",
       "      <td>2020-07-08</td>\n",
       "      <td>107</td>\n",
       "      <td>33</td>\n",
       "      <td>0.156863</td>\n",
       "      <td>17.907813</td>\n",
       "      <td>2</td>\n",
       "    </tr>\n",
       "    <tr>\n",
       "      <th>140</th>\n",
       "      <td>2020-07-08</td>\n",
       "      <td>107</td>\n",
       "      <td>48</td>\n",
       "      <td>0.529730</td>\n",
       "      <td>17.576014</td>\n",
       "      <td>2</td>\n",
       "    </tr>\n",
       "    <tr>\n",
       "      <th>141</th>\n",
       "      <td>2020-07-08</td>\n",
       "      <td>108</td>\n",
       "      <td>32</td>\n",
       "      <td>0.392638</td>\n",
       "      <td>3.941906</td>\n",
       "      <td>1</td>\n",
       "    </tr>\n",
       "    <tr>\n",
       "      <th>142</th>\n",
       "      <td>2020-07-08</td>\n",
       "      <td>109</td>\n",
       "      <td>43</td>\n",
       "      <td>0.539877</td>\n",
       "      <td>7.322142</td>\n",
       "      <td>2</td>\n",
       "    </tr>\n",
       "    <tr>\n",
       "      <th>143</th>\n",
       "      <td>2020-07-08</td>\n",
       "      <td>109</td>\n",
       "      <td>45</td>\n",
       "      <td>0.849315</td>\n",
       "      <td>1.953679</td>\n",
       "      <td>2</td>\n",
       "    </tr>\n",
       "  </tbody>\n",
       "</table>\n",
       "<p>144 rows × 6 columns</p>\n",
       "</div>"
      ],
      "text/plain": [
       "        cell_id  bc_id  branch_ind      comp  dist_from_bc  num_synapses_of_bc\n",
       "0    2020-07-08     17          19  0.964286     17.850997                   1\n",
       "1    2020-07-08     26          19  0.765306      1.225495                   1\n",
       "2    2020-07-08     29          23  0.982955      1.113831                   1\n",
       "3    2020-07-08     35          18  0.970149      1.795016                   1\n",
       "4    2020-07-08     36          17  0.902439      7.369344                   2\n",
       "..          ...    ...         ...       ...           ...                 ...\n",
       "139  2020-07-08    107          33  0.156863     17.907813                   2\n",
       "140  2020-07-08    107          48  0.529730     17.576014                   2\n",
       "141  2020-07-08    108          32  0.392638      3.941906                   1\n",
       "142  2020-07-08    109          43  0.539877      7.322142                   2\n",
       "143  2020-07-08    109          45  0.849315      1.953679                   2\n",
       "\n",
       "[144 rows x 6 columns]"
      ]
     },
     "execution_count": 18,
     "metadata": {},
     "output_type": "execute_result"
    }
   ],
   "source": [
    "stim_df"
   ]
  },
  {
   "cell_type": "code",
   "execution_count": 17,
   "id": "c7354872-4f60-42c3-84fd-5ced8b0e5c59",
   "metadata": {},
   "outputs": [],
   "source": [
    "stim_df[\"num_synapses_of_bc\"] = stim_df.groupby(\"bc_id\").bc_id.transform(len)"
   ]
  },
  {
   "cell_type": "code",
   "execution_count": 19,
   "id": "8c9f4d6b-c78e-4836-9738-58802e6f0492",
   "metadata": {},
   "outputs": [],
   "source": [
    "stim_df.to_pickle(f\"{data_dir}/stimuli_meta_{cell_id}.pkl\")"
   ]
  },
  {
   "cell_type": "code",
   "execution_count": null,
   "id": "49c6dc6f-ab40-4026-b1a0-15ccfec365c0",
   "metadata": {},
   "outputs": [],
   "source": []
  }
 ],
 "metadata": {
  "kernelspec": {
   "display_name": "Python 3 (ipykernel)",
   "language": "python",
   "name": "python3"
  },
  "language_info": {
   "codemirror_mode": {
    "name": "ipython",
    "version": 3
   },
   "file_extension": ".py",
   "mimetype": "text/x-python",
   "name": "python",
   "nbconvert_exporter": "python",
   "pygments_lexer": "ipython3",
   "version": "3.12.8"
  }
 },
 "nbformat": 4,
 "nbformat_minor": 5
}
